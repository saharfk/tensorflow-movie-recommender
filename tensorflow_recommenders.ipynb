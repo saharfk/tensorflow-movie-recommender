{
  "nbformat": 4,
  "nbformat_minor": 0,
  "metadata": {
    "colab": {
      "name": "tensorflow-recommenders.ipynb",
      "provenance": [],
      "collapsed_sections": [],
      "authorship_tag": "ABX9TyNrEW2Vajj66/LWRCecyC3k",
      "include_colab_link": true
    },
    "kernelspec": {
      "name": "python3",
      "display_name": "Python 3"
    },
    "language_info": {
      "name": "python"
    },
    "widgets": {
      "application/vnd.jupyter.widget-state+json": {
        "5f62b0d24b7a4ec9870c694d22126051": {
          "model_module": "@jupyter-widgets/controls",
          "model_name": "HBoxModel",
          "model_module_version": "1.5.0",
          "state": {
            "_view_name": "HBoxView",
            "_dom_classes": [],
            "_model_name": "HBoxModel",
            "_view_module": "@jupyter-widgets/controls",
            "_model_module_version": "1.5.0",
            "_view_count": null,
            "_view_module_version": "1.5.0",
            "box_style": "",
            "layout": "IPY_MODEL_1d1c38efd7874f14b5554bd0c272f833",
            "_model_module": "@jupyter-widgets/controls",
            "children": [
              "IPY_MODEL_f3420078e499425d8a30762325bc5db7",
              "IPY_MODEL_6c0de986473d4372bd0e9409bfbb7f25",
              "IPY_MODEL_5b06a8b08b9e40eb96730dfae10bef7d"
            ]
          }
        },
        "1d1c38efd7874f14b5554bd0c272f833": {
          "model_module": "@jupyter-widgets/base",
          "model_name": "LayoutModel",
          "model_module_version": "1.2.0",
          "state": {
            "_view_name": "LayoutView",
            "grid_template_rows": null,
            "right": null,
            "justify_content": null,
            "_view_module": "@jupyter-widgets/base",
            "overflow": null,
            "_model_module_version": "1.2.0",
            "_view_count": null,
            "flex_flow": null,
            "width": null,
            "min_width": null,
            "border": null,
            "align_items": null,
            "bottom": null,
            "_model_module": "@jupyter-widgets/base",
            "top": null,
            "grid_column": null,
            "overflow_y": null,
            "overflow_x": null,
            "grid_auto_flow": null,
            "grid_area": null,
            "grid_template_columns": null,
            "flex": null,
            "_model_name": "LayoutModel",
            "justify_items": null,
            "grid_row": null,
            "max_height": null,
            "align_content": null,
            "visibility": null,
            "align_self": null,
            "height": null,
            "min_height": null,
            "padding": null,
            "grid_auto_rows": null,
            "grid_gap": null,
            "max_width": null,
            "order": null,
            "_view_module_version": "1.2.0",
            "grid_template_areas": null,
            "object_position": null,
            "object_fit": null,
            "grid_auto_columns": null,
            "margin": null,
            "display": null,
            "left": null
          }
        },
        "f3420078e499425d8a30762325bc5db7": {
          "model_module": "@jupyter-widgets/controls",
          "model_name": "HTMLModel",
          "model_module_version": "1.5.0",
          "state": {
            "_view_name": "HTMLView",
            "style": "IPY_MODEL_18adac64348d49cc8123cd6c2fcfd711",
            "_dom_classes": [],
            "description": "",
            "_model_name": "HTMLModel",
            "placeholder": "​",
            "_view_module": "@jupyter-widgets/controls",
            "_model_module_version": "1.5.0",
            "value": "Dl Completed...: 100%",
            "_view_count": null,
            "_view_module_version": "1.5.0",
            "description_tooltip": null,
            "_model_module": "@jupyter-widgets/controls",
            "layout": "IPY_MODEL_4b9b170df340471ebad0d77735785c38"
          }
        },
        "6c0de986473d4372bd0e9409bfbb7f25": {
          "model_module": "@jupyter-widgets/controls",
          "model_name": "FloatProgressModel",
          "model_module_version": "1.5.0",
          "state": {
            "_view_name": "ProgressView",
            "style": "IPY_MODEL_585ae92baef14f1b9ac2880ca23da2d6",
            "_dom_classes": [],
            "description": "",
            "_model_name": "FloatProgressModel",
            "bar_style": "success",
            "max": 1,
            "_view_module": "@jupyter-widgets/controls",
            "_model_module_version": "1.5.0",
            "value": 1,
            "_view_count": null,
            "_view_module_version": "1.5.0",
            "orientation": "horizontal",
            "min": 0,
            "description_tooltip": null,
            "_model_module": "@jupyter-widgets/controls",
            "layout": "IPY_MODEL_17025202f1a64bc4bb76853b40302f57"
          }
        },
        "5b06a8b08b9e40eb96730dfae10bef7d": {
          "model_module": "@jupyter-widgets/controls",
          "model_name": "HTMLModel",
          "model_module_version": "1.5.0",
          "state": {
            "_view_name": "HTMLView",
            "style": "IPY_MODEL_6e60043cdb644c339f47310bf4bbb9af",
            "_dom_classes": [],
            "description": "",
            "_model_name": "HTMLModel",
            "placeholder": "​",
            "_view_module": "@jupyter-widgets/controls",
            "_model_module_version": "1.5.0",
            "value": " 1/1 [00:00&lt;00:00,  5.39 url/s]",
            "_view_count": null,
            "_view_module_version": "1.5.0",
            "description_tooltip": null,
            "_model_module": "@jupyter-widgets/controls",
            "layout": "IPY_MODEL_d08ea683412c462f857b36569361cbda"
          }
        },
        "18adac64348d49cc8123cd6c2fcfd711": {
          "model_module": "@jupyter-widgets/controls",
          "model_name": "DescriptionStyleModel",
          "model_module_version": "1.5.0",
          "state": {
            "_view_name": "StyleView",
            "_model_name": "DescriptionStyleModel",
            "description_width": "",
            "_view_module": "@jupyter-widgets/base",
            "_model_module_version": "1.5.0",
            "_view_count": null,
            "_view_module_version": "1.2.0",
            "_model_module": "@jupyter-widgets/controls"
          }
        },
        "4b9b170df340471ebad0d77735785c38": {
          "model_module": "@jupyter-widgets/base",
          "model_name": "LayoutModel",
          "model_module_version": "1.2.0",
          "state": {
            "_view_name": "LayoutView",
            "grid_template_rows": null,
            "right": null,
            "justify_content": null,
            "_view_module": "@jupyter-widgets/base",
            "overflow": null,
            "_model_module_version": "1.2.0",
            "_view_count": null,
            "flex_flow": null,
            "width": null,
            "min_width": null,
            "border": null,
            "align_items": null,
            "bottom": null,
            "_model_module": "@jupyter-widgets/base",
            "top": null,
            "grid_column": null,
            "overflow_y": null,
            "overflow_x": null,
            "grid_auto_flow": null,
            "grid_area": null,
            "grid_template_columns": null,
            "flex": null,
            "_model_name": "LayoutModel",
            "justify_items": null,
            "grid_row": null,
            "max_height": null,
            "align_content": null,
            "visibility": null,
            "align_self": null,
            "height": null,
            "min_height": null,
            "padding": null,
            "grid_auto_rows": null,
            "grid_gap": null,
            "max_width": null,
            "order": null,
            "_view_module_version": "1.2.0",
            "grid_template_areas": null,
            "object_position": null,
            "object_fit": null,
            "grid_auto_columns": null,
            "margin": null,
            "display": null,
            "left": null
          }
        },
        "585ae92baef14f1b9ac2880ca23da2d6": {
          "model_module": "@jupyter-widgets/controls",
          "model_name": "ProgressStyleModel",
          "model_module_version": "1.5.0",
          "state": {
            "_view_name": "StyleView",
            "_model_name": "ProgressStyleModel",
            "description_width": "",
            "_view_module": "@jupyter-widgets/base",
            "_model_module_version": "1.5.0",
            "_view_count": null,
            "_view_module_version": "1.2.0",
            "bar_color": null,
            "_model_module": "@jupyter-widgets/controls"
          }
        },
        "17025202f1a64bc4bb76853b40302f57": {
          "model_module": "@jupyter-widgets/base",
          "model_name": "LayoutModel",
          "model_module_version": "1.2.0",
          "state": {
            "_view_name": "LayoutView",
            "grid_template_rows": null,
            "right": null,
            "justify_content": null,
            "_view_module": "@jupyter-widgets/base",
            "overflow": null,
            "_model_module_version": "1.2.0",
            "_view_count": null,
            "flex_flow": null,
            "width": "20px",
            "min_width": null,
            "border": null,
            "align_items": null,
            "bottom": null,
            "_model_module": "@jupyter-widgets/base",
            "top": null,
            "grid_column": null,
            "overflow_y": null,
            "overflow_x": null,
            "grid_auto_flow": null,
            "grid_area": null,
            "grid_template_columns": null,
            "flex": null,
            "_model_name": "LayoutModel",
            "justify_items": null,
            "grid_row": null,
            "max_height": null,
            "align_content": null,
            "visibility": null,
            "align_self": null,
            "height": null,
            "min_height": null,
            "padding": null,
            "grid_auto_rows": null,
            "grid_gap": null,
            "max_width": null,
            "order": null,
            "_view_module_version": "1.2.0",
            "grid_template_areas": null,
            "object_position": null,
            "object_fit": null,
            "grid_auto_columns": null,
            "margin": null,
            "display": null,
            "left": null
          }
        },
        "6e60043cdb644c339f47310bf4bbb9af": {
          "model_module": "@jupyter-widgets/controls",
          "model_name": "DescriptionStyleModel",
          "model_module_version": "1.5.0",
          "state": {
            "_view_name": "StyleView",
            "_model_name": "DescriptionStyleModel",
            "description_width": "",
            "_view_module": "@jupyter-widgets/base",
            "_model_module_version": "1.5.0",
            "_view_count": null,
            "_view_module_version": "1.2.0",
            "_model_module": "@jupyter-widgets/controls"
          }
        },
        "d08ea683412c462f857b36569361cbda": {
          "model_module": "@jupyter-widgets/base",
          "model_name": "LayoutModel",
          "model_module_version": "1.2.0",
          "state": {
            "_view_name": "LayoutView",
            "grid_template_rows": null,
            "right": null,
            "justify_content": null,
            "_view_module": "@jupyter-widgets/base",
            "overflow": null,
            "_model_module_version": "1.2.0",
            "_view_count": null,
            "flex_flow": null,
            "width": null,
            "min_width": null,
            "border": null,
            "align_items": null,
            "bottom": null,
            "_model_module": "@jupyter-widgets/base",
            "top": null,
            "grid_column": null,
            "overflow_y": null,
            "overflow_x": null,
            "grid_auto_flow": null,
            "grid_area": null,
            "grid_template_columns": null,
            "flex": null,
            "_model_name": "LayoutModel",
            "justify_items": null,
            "grid_row": null,
            "max_height": null,
            "align_content": null,
            "visibility": null,
            "align_self": null,
            "height": null,
            "min_height": null,
            "padding": null,
            "grid_auto_rows": null,
            "grid_gap": null,
            "max_width": null,
            "order": null,
            "_view_module_version": "1.2.0",
            "grid_template_areas": null,
            "object_position": null,
            "object_fit": null,
            "grid_auto_columns": null,
            "margin": null,
            "display": null,
            "left": null
          }
        },
        "bab2e148c9dc468a8988234c4a40cb9d": {
          "model_module": "@jupyter-widgets/controls",
          "model_name": "HBoxModel",
          "model_module_version": "1.5.0",
          "state": {
            "_view_name": "HBoxView",
            "_dom_classes": [],
            "_model_name": "HBoxModel",
            "_view_module": "@jupyter-widgets/controls",
            "_model_module_version": "1.5.0",
            "_view_count": null,
            "_view_module_version": "1.5.0",
            "box_style": "",
            "layout": "IPY_MODEL_9f995d7438134dd7b4de526532782f07",
            "_model_module": "@jupyter-widgets/controls",
            "children": [
              "IPY_MODEL_9e76a0d5dc684086ad55dfd9bce4ab31",
              "IPY_MODEL_647a6c38a6de4a119dc5db27c7c773de",
              "IPY_MODEL_d8c9d747ce1643eaaa655d25afdbaaec"
            ]
          }
        },
        "9f995d7438134dd7b4de526532782f07": {
          "model_module": "@jupyter-widgets/base",
          "model_name": "LayoutModel",
          "model_module_version": "1.2.0",
          "state": {
            "_view_name": "LayoutView",
            "grid_template_rows": null,
            "right": null,
            "justify_content": null,
            "_view_module": "@jupyter-widgets/base",
            "overflow": null,
            "_model_module_version": "1.2.0",
            "_view_count": null,
            "flex_flow": null,
            "width": null,
            "min_width": null,
            "border": null,
            "align_items": null,
            "bottom": null,
            "_model_module": "@jupyter-widgets/base",
            "top": null,
            "grid_column": null,
            "overflow_y": null,
            "overflow_x": null,
            "grid_auto_flow": null,
            "grid_area": null,
            "grid_template_columns": null,
            "flex": null,
            "_model_name": "LayoutModel",
            "justify_items": null,
            "grid_row": null,
            "max_height": null,
            "align_content": null,
            "visibility": null,
            "align_self": null,
            "height": null,
            "min_height": null,
            "padding": null,
            "grid_auto_rows": null,
            "grid_gap": null,
            "max_width": null,
            "order": null,
            "_view_module_version": "1.2.0",
            "grid_template_areas": null,
            "object_position": null,
            "object_fit": null,
            "grid_auto_columns": null,
            "margin": null,
            "display": null,
            "left": null
          }
        },
        "9e76a0d5dc684086ad55dfd9bce4ab31": {
          "model_module": "@jupyter-widgets/controls",
          "model_name": "HTMLModel",
          "model_module_version": "1.5.0",
          "state": {
            "_view_name": "HTMLView",
            "style": "IPY_MODEL_c45d48aef33f4cc191f1694de51be49c",
            "_dom_classes": [],
            "description": "",
            "_model_name": "HTMLModel",
            "placeholder": "​",
            "_view_module": "@jupyter-widgets/controls",
            "_model_module_version": "1.5.0",
            "value": "Dl Size...: 100%",
            "_view_count": null,
            "_view_module_version": "1.5.0",
            "description_tooltip": null,
            "_model_module": "@jupyter-widgets/controls",
            "layout": "IPY_MODEL_66e69b0e0de8410db171b41648a0e175"
          }
        },
        "647a6c38a6de4a119dc5db27c7c773de": {
          "model_module": "@jupyter-widgets/controls",
          "model_name": "FloatProgressModel",
          "model_module_version": "1.5.0",
          "state": {
            "_view_name": "ProgressView",
            "style": "IPY_MODEL_83e2e410feff4063b110a81c51bd474f",
            "_dom_classes": [],
            "description": "",
            "_model_name": "FloatProgressModel",
            "bar_style": "success",
            "max": 1,
            "_view_module": "@jupyter-widgets/controls",
            "_model_module_version": "1.5.0",
            "value": 1,
            "_view_count": null,
            "_view_module_version": "1.5.0",
            "orientation": "horizontal",
            "min": 0,
            "description_tooltip": null,
            "_model_module": "@jupyter-widgets/controls",
            "layout": "IPY_MODEL_de54408ea7634ef9aaed53691fa5ac34"
          }
        },
        "d8c9d747ce1643eaaa655d25afdbaaec": {
          "model_module": "@jupyter-widgets/controls",
          "model_name": "HTMLModel",
          "model_module_version": "1.5.0",
          "state": {
            "_view_name": "HTMLView",
            "style": "IPY_MODEL_01e34ae6c949499ebfb268aed1be381a",
            "_dom_classes": [],
            "description": "",
            "_model_name": "HTMLModel",
            "placeholder": "​",
            "_view_module": "@jupyter-widgets/controls",
            "_model_module_version": "1.5.0",
            "value": " 4924029/4924029 [00:00&lt;00:00, 32515609.30 MiB/s]",
            "_view_count": null,
            "_view_module_version": "1.5.0",
            "description_tooltip": null,
            "_model_module": "@jupyter-widgets/controls",
            "layout": "IPY_MODEL_a8b2f7ae0d0c47cb8995dbbcc9f45b34"
          }
        },
        "c45d48aef33f4cc191f1694de51be49c": {
          "model_module": "@jupyter-widgets/controls",
          "model_name": "DescriptionStyleModel",
          "model_module_version": "1.5.0",
          "state": {
            "_view_name": "StyleView",
            "_model_name": "DescriptionStyleModel",
            "description_width": "",
            "_view_module": "@jupyter-widgets/base",
            "_model_module_version": "1.5.0",
            "_view_count": null,
            "_view_module_version": "1.2.0",
            "_model_module": "@jupyter-widgets/controls"
          }
        },
        "66e69b0e0de8410db171b41648a0e175": {
          "model_module": "@jupyter-widgets/base",
          "model_name": "LayoutModel",
          "model_module_version": "1.2.0",
          "state": {
            "_view_name": "LayoutView",
            "grid_template_rows": null,
            "right": null,
            "justify_content": null,
            "_view_module": "@jupyter-widgets/base",
            "overflow": null,
            "_model_module_version": "1.2.0",
            "_view_count": null,
            "flex_flow": null,
            "width": null,
            "min_width": null,
            "border": null,
            "align_items": null,
            "bottom": null,
            "_model_module": "@jupyter-widgets/base",
            "top": null,
            "grid_column": null,
            "overflow_y": null,
            "overflow_x": null,
            "grid_auto_flow": null,
            "grid_area": null,
            "grid_template_columns": null,
            "flex": null,
            "_model_name": "LayoutModel",
            "justify_items": null,
            "grid_row": null,
            "max_height": null,
            "align_content": null,
            "visibility": null,
            "align_self": null,
            "height": null,
            "min_height": null,
            "padding": null,
            "grid_auto_rows": null,
            "grid_gap": null,
            "max_width": null,
            "order": null,
            "_view_module_version": "1.2.0",
            "grid_template_areas": null,
            "object_position": null,
            "object_fit": null,
            "grid_auto_columns": null,
            "margin": null,
            "display": null,
            "left": null
          }
        },
        "83e2e410feff4063b110a81c51bd474f": {
          "model_module": "@jupyter-widgets/controls",
          "model_name": "ProgressStyleModel",
          "model_module_version": "1.5.0",
          "state": {
            "_view_name": "StyleView",
            "_model_name": "ProgressStyleModel",
            "description_width": "",
            "_view_module": "@jupyter-widgets/base",
            "_model_module_version": "1.5.0",
            "_view_count": null,
            "_view_module_version": "1.2.0",
            "bar_color": null,
            "_model_module": "@jupyter-widgets/controls"
          }
        },
        "de54408ea7634ef9aaed53691fa5ac34": {
          "model_module": "@jupyter-widgets/base",
          "model_name": "LayoutModel",
          "model_module_version": "1.2.0",
          "state": {
            "_view_name": "LayoutView",
            "grid_template_rows": null,
            "right": null,
            "justify_content": null,
            "_view_module": "@jupyter-widgets/base",
            "overflow": null,
            "_model_module_version": "1.2.0",
            "_view_count": null,
            "flex_flow": null,
            "width": "20px",
            "min_width": null,
            "border": null,
            "align_items": null,
            "bottom": null,
            "_model_module": "@jupyter-widgets/base",
            "top": null,
            "grid_column": null,
            "overflow_y": null,
            "overflow_x": null,
            "grid_auto_flow": null,
            "grid_area": null,
            "grid_template_columns": null,
            "flex": null,
            "_model_name": "LayoutModel",
            "justify_items": null,
            "grid_row": null,
            "max_height": null,
            "align_content": null,
            "visibility": null,
            "align_self": null,
            "height": null,
            "min_height": null,
            "padding": null,
            "grid_auto_rows": null,
            "grid_gap": null,
            "max_width": null,
            "order": null,
            "_view_module_version": "1.2.0",
            "grid_template_areas": null,
            "object_position": null,
            "object_fit": null,
            "grid_auto_columns": null,
            "margin": null,
            "display": null,
            "left": null
          }
        },
        "01e34ae6c949499ebfb268aed1be381a": {
          "model_module": "@jupyter-widgets/controls",
          "model_name": "DescriptionStyleModel",
          "model_module_version": "1.5.0",
          "state": {
            "_view_name": "StyleView",
            "_model_name": "DescriptionStyleModel",
            "description_width": "",
            "_view_module": "@jupyter-widgets/base",
            "_model_module_version": "1.5.0",
            "_view_count": null,
            "_view_module_version": "1.2.0",
            "_model_module": "@jupyter-widgets/controls"
          }
        },
        "a8b2f7ae0d0c47cb8995dbbcc9f45b34": {
          "model_module": "@jupyter-widgets/base",
          "model_name": "LayoutModel",
          "model_module_version": "1.2.0",
          "state": {
            "_view_name": "LayoutView",
            "grid_template_rows": null,
            "right": null,
            "justify_content": null,
            "_view_module": "@jupyter-widgets/base",
            "overflow": null,
            "_model_module_version": "1.2.0",
            "_view_count": null,
            "flex_flow": null,
            "width": null,
            "min_width": null,
            "border": null,
            "align_items": null,
            "bottom": null,
            "_model_module": "@jupyter-widgets/base",
            "top": null,
            "grid_column": null,
            "overflow_y": null,
            "overflow_x": null,
            "grid_auto_flow": null,
            "grid_area": null,
            "grid_template_columns": null,
            "flex": null,
            "_model_name": "LayoutModel",
            "justify_items": null,
            "grid_row": null,
            "max_height": null,
            "align_content": null,
            "visibility": null,
            "align_self": null,
            "height": null,
            "min_height": null,
            "padding": null,
            "grid_auto_rows": null,
            "grid_gap": null,
            "max_width": null,
            "order": null,
            "_view_module_version": "1.2.0",
            "grid_template_areas": null,
            "object_position": null,
            "object_fit": null,
            "grid_auto_columns": null,
            "margin": null,
            "display": null,
            "left": null
          }
        },
        "56fe1aec45fe4eabae2be5831b151e74": {
          "model_module": "@jupyter-widgets/controls",
          "model_name": "HBoxModel",
          "model_module_version": "1.5.0",
          "state": {
            "_view_name": "HBoxView",
            "_dom_classes": [],
            "_model_name": "HBoxModel",
            "_view_module": "@jupyter-widgets/controls",
            "_model_module_version": "1.5.0",
            "_view_count": null,
            "_view_module_version": "1.5.0",
            "box_style": "",
            "layout": "IPY_MODEL_2f507df8605f468e809e0a602430412b",
            "_model_module": "@jupyter-widgets/controls",
            "children": [
              "IPY_MODEL_cf35e4c0068d4ee1b0b96507abc13c6e",
              "IPY_MODEL_6f6242742b9d43efabbdafd3c1f9abc2",
              "IPY_MODEL_0a26f962c5b34559af8a66484ce38c26"
            ]
          }
        },
        "2f507df8605f468e809e0a602430412b": {
          "model_module": "@jupyter-widgets/base",
          "model_name": "LayoutModel",
          "model_module_version": "1.2.0",
          "state": {
            "_view_name": "LayoutView",
            "grid_template_rows": null,
            "right": null,
            "justify_content": null,
            "_view_module": "@jupyter-widgets/base",
            "overflow": null,
            "_model_module_version": "1.2.0",
            "_view_count": null,
            "flex_flow": null,
            "width": null,
            "min_width": null,
            "border": null,
            "align_items": null,
            "bottom": null,
            "_model_module": "@jupyter-widgets/base",
            "top": null,
            "grid_column": null,
            "overflow_y": null,
            "overflow_x": null,
            "grid_auto_flow": null,
            "grid_area": null,
            "grid_template_columns": null,
            "flex": null,
            "_model_name": "LayoutModel",
            "justify_items": null,
            "grid_row": null,
            "max_height": null,
            "align_content": null,
            "visibility": null,
            "align_self": null,
            "height": null,
            "min_height": null,
            "padding": null,
            "grid_auto_rows": null,
            "grid_gap": null,
            "max_width": null,
            "order": null,
            "_view_module_version": "1.2.0",
            "grid_template_areas": null,
            "object_position": null,
            "object_fit": null,
            "grid_auto_columns": null,
            "margin": null,
            "display": null,
            "left": null
          }
        },
        "cf35e4c0068d4ee1b0b96507abc13c6e": {
          "model_module": "@jupyter-widgets/controls",
          "model_name": "HTMLModel",
          "model_module_version": "1.5.0",
          "state": {
            "_view_name": "HTMLView",
            "style": "IPY_MODEL_eb9a0b73bbe743e18bd4826af8471899",
            "_dom_classes": [],
            "description": "",
            "_model_name": "HTMLModel",
            "placeholder": "​",
            "_view_module": "@jupyter-widgets/controls",
            "_model_module_version": "1.5.0",
            "value": "Extraction completed...: ",
            "_view_count": null,
            "_view_module_version": "1.5.0",
            "description_tooltip": null,
            "_model_module": "@jupyter-widgets/controls",
            "layout": "IPY_MODEL_bcba1524ca754eb5a76fdc7160aac9eb"
          }
        },
        "6f6242742b9d43efabbdafd3c1f9abc2": {
          "model_module": "@jupyter-widgets/controls",
          "model_name": "FloatProgressModel",
          "model_module_version": "1.5.0",
          "state": {
            "_view_name": "ProgressView",
            "style": "IPY_MODEL_658f4f0d0da84572b560f11650ab3e05",
            "_dom_classes": [],
            "description": "",
            "_model_name": "FloatProgressModel",
            "bar_style": "success",
            "max": 1,
            "_view_module": "@jupyter-widgets/controls",
            "_model_module_version": "1.5.0",
            "value": 0,
            "_view_count": null,
            "_view_module_version": "1.5.0",
            "orientation": "horizontal",
            "min": 0,
            "description_tooltip": null,
            "_model_module": "@jupyter-widgets/controls",
            "layout": "IPY_MODEL_50d9a07edb16473788774c964b6afc66"
          }
        },
        "0a26f962c5b34559af8a66484ce38c26": {
          "model_module": "@jupyter-widgets/controls",
          "model_name": "HTMLModel",
          "model_module_version": "1.5.0",
          "state": {
            "_view_name": "HTMLView",
            "style": "IPY_MODEL_02b78e04db8c481ea08227e6e5709a4a",
            "_dom_classes": [],
            "description": "",
            "_model_name": "HTMLModel",
            "placeholder": "​",
            "_view_module": "@jupyter-widgets/controls",
            "_model_module_version": "1.5.0",
            "value": " 0/0 [00:00&lt;?, ? file/s]",
            "_view_count": null,
            "_view_module_version": "1.5.0",
            "description_tooltip": null,
            "_model_module": "@jupyter-widgets/controls",
            "layout": "IPY_MODEL_9b32b655881f4817b00ac2f5458d5fe9"
          }
        },
        "eb9a0b73bbe743e18bd4826af8471899": {
          "model_module": "@jupyter-widgets/controls",
          "model_name": "DescriptionStyleModel",
          "model_module_version": "1.5.0",
          "state": {
            "_view_name": "StyleView",
            "_model_name": "DescriptionStyleModel",
            "description_width": "",
            "_view_module": "@jupyter-widgets/base",
            "_model_module_version": "1.5.0",
            "_view_count": null,
            "_view_module_version": "1.2.0",
            "_model_module": "@jupyter-widgets/controls"
          }
        },
        "bcba1524ca754eb5a76fdc7160aac9eb": {
          "model_module": "@jupyter-widgets/base",
          "model_name": "LayoutModel",
          "model_module_version": "1.2.0",
          "state": {
            "_view_name": "LayoutView",
            "grid_template_rows": null,
            "right": null,
            "justify_content": null,
            "_view_module": "@jupyter-widgets/base",
            "overflow": null,
            "_model_module_version": "1.2.0",
            "_view_count": null,
            "flex_flow": null,
            "width": null,
            "min_width": null,
            "border": null,
            "align_items": null,
            "bottom": null,
            "_model_module": "@jupyter-widgets/base",
            "top": null,
            "grid_column": null,
            "overflow_y": null,
            "overflow_x": null,
            "grid_auto_flow": null,
            "grid_area": null,
            "grid_template_columns": null,
            "flex": null,
            "_model_name": "LayoutModel",
            "justify_items": null,
            "grid_row": null,
            "max_height": null,
            "align_content": null,
            "visibility": null,
            "align_self": null,
            "height": null,
            "min_height": null,
            "padding": null,
            "grid_auto_rows": null,
            "grid_gap": null,
            "max_width": null,
            "order": null,
            "_view_module_version": "1.2.0",
            "grid_template_areas": null,
            "object_position": null,
            "object_fit": null,
            "grid_auto_columns": null,
            "margin": null,
            "display": null,
            "left": null
          }
        },
        "658f4f0d0da84572b560f11650ab3e05": {
          "model_module": "@jupyter-widgets/controls",
          "model_name": "ProgressStyleModel",
          "model_module_version": "1.5.0",
          "state": {
            "_view_name": "StyleView",
            "_model_name": "ProgressStyleModel",
            "description_width": "",
            "_view_module": "@jupyter-widgets/base",
            "_model_module_version": "1.5.0",
            "_view_count": null,
            "_view_module_version": "1.2.0",
            "bar_color": null,
            "_model_module": "@jupyter-widgets/controls"
          }
        },
        "50d9a07edb16473788774c964b6afc66": {
          "model_module": "@jupyter-widgets/base",
          "model_name": "LayoutModel",
          "model_module_version": "1.2.0",
          "state": {
            "_view_name": "LayoutView",
            "grid_template_rows": null,
            "right": null,
            "justify_content": null,
            "_view_module": "@jupyter-widgets/base",
            "overflow": null,
            "_model_module_version": "1.2.0",
            "_view_count": null,
            "flex_flow": null,
            "width": "20px",
            "min_width": null,
            "border": null,
            "align_items": null,
            "bottom": null,
            "_model_module": "@jupyter-widgets/base",
            "top": null,
            "grid_column": null,
            "overflow_y": null,
            "overflow_x": null,
            "grid_auto_flow": null,
            "grid_area": null,
            "grid_template_columns": null,
            "flex": null,
            "_model_name": "LayoutModel",
            "justify_items": null,
            "grid_row": null,
            "max_height": null,
            "align_content": null,
            "visibility": null,
            "align_self": null,
            "height": null,
            "min_height": null,
            "padding": null,
            "grid_auto_rows": null,
            "grid_gap": null,
            "max_width": null,
            "order": null,
            "_view_module_version": "1.2.0",
            "grid_template_areas": null,
            "object_position": null,
            "object_fit": null,
            "grid_auto_columns": null,
            "margin": null,
            "display": null,
            "left": null
          }
        },
        "02b78e04db8c481ea08227e6e5709a4a": {
          "model_module": "@jupyter-widgets/controls",
          "model_name": "DescriptionStyleModel",
          "model_module_version": "1.5.0",
          "state": {
            "_view_name": "StyleView",
            "_model_name": "DescriptionStyleModel",
            "description_width": "",
            "_view_module": "@jupyter-widgets/base",
            "_model_module_version": "1.5.0",
            "_view_count": null,
            "_view_module_version": "1.2.0",
            "_model_module": "@jupyter-widgets/controls"
          }
        },
        "9b32b655881f4817b00ac2f5458d5fe9": {
          "model_module": "@jupyter-widgets/base",
          "model_name": "LayoutModel",
          "model_module_version": "1.2.0",
          "state": {
            "_view_name": "LayoutView",
            "grid_template_rows": null,
            "right": null,
            "justify_content": null,
            "_view_module": "@jupyter-widgets/base",
            "overflow": null,
            "_model_module_version": "1.2.0",
            "_view_count": null,
            "flex_flow": null,
            "width": null,
            "min_width": null,
            "border": null,
            "align_items": null,
            "bottom": null,
            "_model_module": "@jupyter-widgets/base",
            "top": null,
            "grid_column": null,
            "overflow_y": null,
            "overflow_x": null,
            "grid_auto_flow": null,
            "grid_area": null,
            "grid_template_columns": null,
            "flex": null,
            "_model_name": "LayoutModel",
            "justify_items": null,
            "grid_row": null,
            "max_height": null,
            "align_content": null,
            "visibility": null,
            "align_self": null,
            "height": null,
            "min_height": null,
            "padding": null,
            "grid_auto_rows": null,
            "grid_gap": null,
            "max_width": null,
            "order": null,
            "_view_module_version": "1.2.0",
            "grid_template_areas": null,
            "object_position": null,
            "object_fit": null,
            "grid_auto_columns": null,
            "margin": null,
            "display": null,
            "left": null
          }
        },
        "fb5025630c02403e80a8c445cdeadbbb": {
          "model_module": "@jupyter-widgets/controls",
          "model_name": "HBoxModel",
          "model_module_version": "1.5.0",
          "state": {
            "_view_name": "HBoxView",
            "_dom_classes": [],
            "_model_name": "HBoxModel",
            "_view_module": "@jupyter-widgets/controls",
            "_model_module_version": "1.5.0",
            "_view_count": null,
            "_view_module_version": "1.5.0",
            "box_style": "",
            "layout": "IPY_MODEL_cd47581203464378b3b45f1dcd7e41be",
            "_model_module": "@jupyter-widgets/controls",
            "children": [
              "IPY_MODEL_5111071b91614d449131d68819bed5d2",
              "IPY_MODEL_c7d99c317a6e4439b157842ca38938e4",
              "IPY_MODEL_1ff076924e954566b15691ec6756ecef"
            ]
          }
        },
        "cd47581203464378b3b45f1dcd7e41be": {
          "model_module": "@jupyter-widgets/base",
          "model_name": "LayoutModel",
          "model_module_version": "1.2.0",
          "state": {
            "_view_name": "LayoutView",
            "grid_template_rows": null,
            "right": null,
            "justify_content": null,
            "_view_module": "@jupyter-widgets/base",
            "overflow": null,
            "_model_module_version": "1.2.0",
            "_view_count": null,
            "flex_flow": null,
            "width": null,
            "min_width": null,
            "border": null,
            "align_items": null,
            "bottom": null,
            "_model_module": "@jupyter-widgets/base",
            "top": null,
            "grid_column": null,
            "overflow_y": null,
            "overflow_x": null,
            "grid_auto_flow": null,
            "grid_area": null,
            "grid_template_columns": null,
            "flex": null,
            "_model_name": "LayoutModel",
            "justify_items": null,
            "grid_row": null,
            "max_height": null,
            "align_content": null,
            "visibility": null,
            "align_self": null,
            "height": null,
            "min_height": null,
            "padding": null,
            "grid_auto_rows": null,
            "grid_gap": null,
            "max_width": null,
            "order": null,
            "_view_module_version": "1.2.0",
            "grid_template_areas": null,
            "object_position": null,
            "object_fit": null,
            "grid_auto_columns": null,
            "margin": null,
            "display": null,
            "left": null
          }
        },
        "5111071b91614d449131d68819bed5d2": {
          "model_module": "@jupyter-widgets/controls",
          "model_name": "HTMLModel",
          "model_module_version": "1.5.0",
          "state": {
            "_view_name": "HTMLView",
            "style": "IPY_MODEL_c86095d247914d35b5c3c4e3f94ef06b",
            "_dom_classes": [],
            "description": "",
            "_model_name": "HTMLModel",
            "placeholder": "​",
            "_view_module": "@jupyter-widgets/controls",
            "_model_module_version": "1.5.0",
            "value": "Generating splits...: 100%",
            "_view_count": null,
            "_view_module_version": "1.5.0",
            "description_tooltip": null,
            "_model_module": "@jupyter-widgets/controls",
            "layout": "IPY_MODEL_dd711f9e35f644e398deb478bc759b9a"
          }
        },
        "c7d99c317a6e4439b157842ca38938e4": {
          "model_module": "@jupyter-widgets/controls",
          "model_name": "FloatProgressModel",
          "model_module_version": "1.5.0",
          "state": {
            "_view_name": "ProgressView",
            "style": "IPY_MODEL_6446ee33e0374965a5c0974d6c2b7dc1",
            "_dom_classes": [],
            "description": "",
            "_model_name": "FloatProgressModel",
            "bar_style": "",
            "max": 1,
            "_view_module": "@jupyter-widgets/controls",
            "_model_module_version": "1.5.0",
            "value": 1,
            "_view_count": null,
            "_view_module_version": "1.5.0",
            "orientation": "horizontal",
            "min": 0,
            "description_tooltip": null,
            "_model_module": "@jupyter-widgets/controls",
            "layout": "IPY_MODEL_3de24fa0694a4b18aa2429aefb207a41"
          }
        },
        "1ff076924e954566b15691ec6756ecef": {
          "model_module": "@jupyter-widgets/controls",
          "model_name": "HTMLModel",
          "model_module_version": "1.5.0",
          "state": {
            "_view_name": "HTMLView",
            "style": "IPY_MODEL_2b014afb7b3944239451ac76aa8770d5",
            "_dom_classes": [],
            "description": "",
            "_model_name": "HTMLModel",
            "placeholder": "​",
            "_view_module": "@jupyter-widgets/controls",
            "_model_module_version": "1.5.0",
            "value": " 1/1 [00:00&lt;00:00,  1.10 splits/s]",
            "_view_count": null,
            "_view_module_version": "1.5.0",
            "description_tooltip": null,
            "_model_module": "@jupyter-widgets/controls",
            "layout": "IPY_MODEL_9a7572e485cb4320bcda98930f63f1c4"
          }
        },
        "c86095d247914d35b5c3c4e3f94ef06b": {
          "model_module": "@jupyter-widgets/controls",
          "model_name": "DescriptionStyleModel",
          "model_module_version": "1.5.0",
          "state": {
            "_view_name": "StyleView",
            "_model_name": "DescriptionStyleModel",
            "description_width": "",
            "_view_module": "@jupyter-widgets/base",
            "_model_module_version": "1.5.0",
            "_view_count": null,
            "_view_module_version": "1.2.0",
            "_model_module": "@jupyter-widgets/controls"
          }
        },
        "dd711f9e35f644e398deb478bc759b9a": {
          "model_module": "@jupyter-widgets/base",
          "model_name": "LayoutModel",
          "model_module_version": "1.2.0",
          "state": {
            "_view_name": "LayoutView",
            "grid_template_rows": null,
            "right": null,
            "justify_content": null,
            "_view_module": "@jupyter-widgets/base",
            "overflow": null,
            "_model_module_version": "1.2.0",
            "_view_count": null,
            "flex_flow": null,
            "width": null,
            "min_width": null,
            "border": null,
            "align_items": null,
            "bottom": null,
            "_model_module": "@jupyter-widgets/base",
            "top": null,
            "grid_column": null,
            "overflow_y": null,
            "overflow_x": null,
            "grid_auto_flow": null,
            "grid_area": null,
            "grid_template_columns": null,
            "flex": null,
            "_model_name": "LayoutModel",
            "justify_items": null,
            "grid_row": null,
            "max_height": null,
            "align_content": null,
            "visibility": null,
            "align_self": null,
            "height": null,
            "min_height": null,
            "padding": null,
            "grid_auto_rows": null,
            "grid_gap": null,
            "max_width": null,
            "order": null,
            "_view_module_version": "1.2.0",
            "grid_template_areas": null,
            "object_position": null,
            "object_fit": null,
            "grid_auto_columns": null,
            "margin": null,
            "display": null,
            "left": null
          }
        },
        "6446ee33e0374965a5c0974d6c2b7dc1": {
          "model_module": "@jupyter-widgets/controls",
          "model_name": "ProgressStyleModel",
          "model_module_version": "1.5.0",
          "state": {
            "_view_name": "StyleView",
            "_model_name": "ProgressStyleModel",
            "description_width": "",
            "_view_module": "@jupyter-widgets/base",
            "_model_module_version": "1.5.0",
            "_view_count": null,
            "_view_module_version": "1.2.0",
            "bar_color": null,
            "_model_module": "@jupyter-widgets/controls"
          }
        },
        "3de24fa0694a4b18aa2429aefb207a41": {
          "model_module": "@jupyter-widgets/base",
          "model_name": "LayoutModel",
          "model_module_version": "1.2.0",
          "state": {
            "_view_name": "LayoutView",
            "grid_template_rows": null,
            "right": null,
            "justify_content": null,
            "_view_module": "@jupyter-widgets/base",
            "overflow": null,
            "_model_module_version": "1.2.0",
            "_view_count": null,
            "flex_flow": null,
            "width": null,
            "min_width": null,
            "border": null,
            "align_items": null,
            "bottom": null,
            "_model_module": "@jupyter-widgets/base",
            "top": null,
            "grid_column": null,
            "overflow_y": null,
            "overflow_x": null,
            "grid_auto_flow": null,
            "grid_area": null,
            "grid_template_columns": null,
            "flex": null,
            "_model_name": "LayoutModel",
            "justify_items": null,
            "grid_row": null,
            "max_height": null,
            "align_content": null,
            "visibility": null,
            "align_self": null,
            "height": null,
            "min_height": null,
            "padding": null,
            "grid_auto_rows": null,
            "grid_gap": null,
            "max_width": null,
            "order": null,
            "_view_module_version": "1.2.0",
            "grid_template_areas": null,
            "object_position": null,
            "object_fit": null,
            "grid_auto_columns": null,
            "margin": null,
            "display": null,
            "left": null
          }
        },
        "2b014afb7b3944239451ac76aa8770d5": {
          "model_module": "@jupyter-widgets/controls",
          "model_name": "DescriptionStyleModel",
          "model_module_version": "1.5.0",
          "state": {
            "_view_name": "StyleView",
            "_model_name": "DescriptionStyleModel",
            "description_width": "",
            "_view_module": "@jupyter-widgets/base",
            "_model_module_version": "1.5.0",
            "_view_count": null,
            "_view_module_version": "1.2.0",
            "_model_module": "@jupyter-widgets/controls"
          }
        },
        "9a7572e485cb4320bcda98930f63f1c4": {
          "model_module": "@jupyter-widgets/base",
          "model_name": "LayoutModel",
          "model_module_version": "1.2.0",
          "state": {
            "_view_name": "LayoutView",
            "grid_template_rows": null,
            "right": null,
            "justify_content": null,
            "_view_module": "@jupyter-widgets/base",
            "overflow": null,
            "_model_module_version": "1.2.0",
            "_view_count": null,
            "flex_flow": null,
            "width": null,
            "min_width": null,
            "border": null,
            "align_items": null,
            "bottom": null,
            "_model_module": "@jupyter-widgets/base",
            "top": null,
            "grid_column": null,
            "overflow_y": null,
            "overflow_x": null,
            "grid_auto_flow": null,
            "grid_area": null,
            "grid_template_columns": null,
            "flex": null,
            "_model_name": "LayoutModel",
            "justify_items": null,
            "grid_row": null,
            "max_height": null,
            "align_content": null,
            "visibility": null,
            "align_self": null,
            "height": null,
            "min_height": null,
            "padding": null,
            "grid_auto_rows": null,
            "grid_gap": null,
            "max_width": null,
            "order": null,
            "_view_module_version": "1.2.0",
            "grid_template_areas": null,
            "object_position": null,
            "object_fit": null,
            "grid_auto_columns": null,
            "margin": null,
            "display": null,
            "left": null
          }
        },
        "9c284e820a0a4de29c49dfc64f086b11": {
          "model_module": "@jupyter-widgets/controls",
          "model_name": "HBoxModel",
          "model_module_version": "1.5.0",
          "state": {
            "_view_name": "HBoxView",
            "_dom_classes": [],
            "_model_name": "HBoxModel",
            "_view_module": "@jupyter-widgets/controls",
            "_model_module_version": "1.5.0",
            "_view_count": null,
            "_view_module_version": "1.5.0",
            "box_style": "",
            "layout": "IPY_MODEL_ab214c92d8244f2999f965e02ca346df",
            "_model_module": "@jupyter-widgets/controls",
            "children": [
              "IPY_MODEL_dbb5b7643f62436d8befaa901fdc890c",
              "IPY_MODEL_3cf2e6689d3446809c02cccb236a88d1",
              "IPY_MODEL_2852dbb78f3e456bb4d2bb601402ab7a"
            ]
          }
        },
        "ab214c92d8244f2999f965e02ca346df": {
          "model_module": "@jupyter-widgets/base",
          "model_name": "LayoutModel",
          "model_module_version": "1.2.0",
          "state": {
            "_view_name": "LayoutView",
            "grid_template_rows": null,
            "right": null,
            "justify_content": null,
            "_view_module": "@jupyter-widgets/base",
            "overflow": null,
            "_model_module_version": "1.2.0",
            "_view_count": null,
            "flex_flow": null,
            "width": null,
            "min_width": null,
            "border": null,
            "align_items": null,
            "bottom": null,
            "_model_module": "@jupyter-widgets/base",
            "top": null,
            "grid_column": null,
            "overflow_y": null,
            "overflow_x": null,
            "grid_auto_flow": null,
            "grid_area": null,
            "grid_template_columns": null,
            "flex": null,
            "_model_name": "LayoutModel",
            "justify_items": null,
            "grid_row": null,
            "max_height": null,
            "align_content": null,
            "visibility": null,
            "align_self": null,
            "height": null,
            "min_height": null,
            "padding": null,
            "grid_auto_rows": null,
            "grid_gap": null,
            "max_width": null,
            "order": null,
            "_view_module_version": "1.2.0",
            "grid_template_areas": null,
            "object_position": null,
            "object_fit": null,
            "grid_auto_columns": null,
            "margin": null,
            "display": null,
            "left": null
          }
        },
        "dbb5b7643f62436d8befaa901fdc890c": {
          "model_module": "@jupyter-widgets/controls",
          "model_name": "HTMLModel",
          "model_module_version": "1.5.0",
          "state": {
            "_view_name": "HTMLView",
            "style": "IPY_MODEL_c646534cc611440185fd76c76f12aad0",
            "_dom_classes": [],
            "description": "",
            "_model_name": "HTMLModel",
            "placeholder": "​",
            "_view_module": "@jupyter-widgets/controls",
            "_model_module_version": "1.5.0",
            "value": "Generating train examples...:  90%",
            "_view_count": null,
            "_view_module_version": "1.5.0",
            "description_tooltip": null,
            "_model_module": "@jupyter-widgets/controls",
            "layout": "IPY_MODEL_8540177d736f4f0a80cf1b77b71ee59b"
          }
        },
        "3cf2e6689d3446809c02cccb236a88d1": {
          "model_module": "@jupyter-widgets/controls",
          "model_name": "FloatProgressModel",
          "model_module_version": "1.5.0",
          "state": {
            "_view_name": "ProgressView",
            "style": "IPY_MODEL_b7faa0366a4b46e69d8aecbb9091c3d1",
            "_dom_classes": [],
            "description": "",
            "_model_name": "FloatProgressModel",
            "bar_style": "",
            "max": 1682,
            "_view_module": "@jupyter-widgets/controls",
            "_model_module_version": "1.5.0",
            "value": 1682,
            "_view_count": null,
            "_view_module_version": "1.5.0",
            "orientation": "horizontal",
            "min": 0,
            "description_tooltip": null,
            "_model_module": "@jupyter-widgets/controls",
            "layout": "IPY_MODEL_f2cc0ed98454428f873d31a8e97675f2"
          }
        },
        "2852dbb78f3e456bb4d2bb601402ab7a": {
          "model_module": "@jupyter-widgets/controls",
          "model_name": "HTMLModel",
          "model_module_version": "1.5.0",
          "state": {
            "_view_name": "HTMLView",
            "style": "IPY_MODEL_8d74de3e9e694f17b75aab54d4c94bbc",
            "_dom_classes": [],
            "description": "",
            "_model_name": "HTMLModel",
            "placeholder": "​",
            "_view_module": "@jupyter-widgets/controls",
            "_model_module_version": "1.5.0",
            "value": " 1522/1682 [00:00&lt;00:00, 2705.85 examples/s]",
            "_view_count": null,
            "_view_module_version": "1.5.0",
            "description_tooltip": null,
            "_model_module": "@jupyter-widgets/controls",
            "layout": "IPY_MODEL_80321864c48240d0b50509972f6a7adb"
          }
        },
        "c646534cc611440185fd76c76f12aad0": {
          "model_module": "@jupyter-widgets/controls",
          "model_name": "DescriptionStyleModel",
          "model_module_version": "1.5.0",
          "state": {
            "_view_name": "StyleView",
            "_model_name": "DescriptionStyleModel",
            "description_width": "",
            "_view_module": "@jupyter-widgets/base",
            "_model_module_version": "1.5.0",
            "_view_count": null,
            "_view_module_version": "1.2.0",
            "_model_module": "@jupyter-widgets/controls"
          }
        },
        "8540177d736f4f0a80cf1b77b71ee59b": {
          "model_module": "@jupyter-widgets/base",
          "model_name": "LayoutModel",
          "model_module_version": "1.2.0",
          "state": {
            "_view_name": "LayoutView",
            "grid_template_rows": null,
            "right": null,
            "justify_content": null,
            "_view_module": "@jupyter-widgets/base",
            "overflow": null,
            "_model_module_version": "1.2.0",
            "_view_count": null,
            "flex_flow": null,
            "width": null,
            "min_width": null,
            "border": null,
            "align_items": null,
            "bottom": null,
            "_model_module": "@jupyter-widgets/base",
            "top": null,
            "grid_column": null,
            "overflow_y": null,
            "overflow_x": null,
            "grid_auto_flow": null,
            "grid_area": null,
            "grid_template_columns": null,
            "flex": null,
            "_model_name": "LayoutModel",
            "justify_items": null,
            "grid_row": null,
            "max_height": null,
            "align_content": null,
            "visibility": null,
            "align_self": null,
            "height": null,
            "min_height": null,
            "padding": null,
            "grid_auto_rows": null,
            "grid_gap": null,
            "max_width": null,
            "order": null,
            "_view_module_version": "1.2.0",
            "grid_template_areas": null,
            "object_position": null,
            "object_fit": null,
            "grid_auto_columns": null,
            "margin": null,
            "display": null,
            "left": null
          }
        },
        "b7faa0366a4b46e69d8aecbb9091c3d1": {
          "model_module": "@jupyter-widgets/controls",
          "model_name": "ProgressStyleModel",
          "model_module_version": "1.5.0",
          "state": {
            "_view_name": "StyleView",
            "_model_name": "ProgressStyleModel",
            "description_width": "",
            "_view_module": "@jupyter-widgets/base",
            "_model_module_version": "1.5.0",
            "_view_count": null,
            "_view_module_version": "1.2.0",
            "bar_color": null,
            "_model_module": "@jupyter-widgets/controls"
          }
        },
        "f2cc0ed98454428f873d31a8e97675f2": {
          "model_module": "@jupyter-widgets/base",
          "model_name": "LayoutModel",
          "model_module_version": "1.2.0",
          "state": {
            "_view_name": "LayoutView",
            "grid_template_rows": null,
            "right": null,
            "justify_content": null,
            "_view_module": "@jupyter-widgets/base",
            "overflow": null,
            "_model_module_version": "1.2.0",
            "_view_count": null,
            "flex_flow": null,
            "width": null,
            "min_width": null,
            "border": null,
            "align_items": null,
            "bottom": null,
            "_model_module": "@jupyter-widgets/base",
            "top": null,
            "grid_column": null,
            "overflow_y": null,
            "overflow_x": null,
            "grid_auto_flow": null,
            "grid_area": null,
            "grid_template_columns": null,
            "flex": null,
            "_model_name": "LayoutModel",
            "justify_items": null,
            "grid_row": null,
            "max_height": null,
            "align_content": null,
            "visibility": null,
            "align_self": null,
            "height": null,
            "min_height": null,
            "padding": null,
            "grid_auto_rows": null,
            "grid_gap": null,
            "max_width": null,
            "order": null,
            "_view_module_version": "1.2.0",
            "grid_template_areas": null,
            "object_position": null,
            "object_fit": null,
            "grid_auto_columns": null,
            "margin": null,
            "display": null,
            "left": null
          }
        },
        "8d74de3e9e694f17b75aab54d4c94bbc": {
          "model_module": "@jupyter-widgets/controls",
          "model_name": "DescriptionStyleModel",
          "model_module_version": "1.5.0",
          "state": {
            "_view_name": "StyleView",
            "_model_name": "DescriptionStyleModel",
            "description_width": "",
            "_view_module": "@jupyter-widgets/base",
            "_model_module_version": "1.5.0",
            "_view_count": null,
            "_view_module_version": "1.2.0",
            "_model_module": "@jupyter-widgets/controls"
          }
        },
        "80321864c48240d0b50509972f6a7adb": {
          "model_module": "@jupyter-widgets/base",
          "model_name": "LayoutModel",
          "model_module_version": "1.2.0",
          "state": {
            "_view_name": "LayoutView",
            "grid_template_rows": null,
            "right": null,
            "justify_content": null,
            "_view_module": "@jupyter-widgets/base",
            "overflow": null,
            "_model_module_version": "1.2.0",
            "_view_count": null,
            "flex_flow": null,
            "width": null,
            "min_width": null,
            "border": null,
            "align_items": null,
            "bottom": null,
            "_model_module": "@jupyter-widgets/base",
            "top": null,
            "grid_column": null,
            "overflow_y": null,
            "overflow_x": null,
            "grid_auto_flow": null,
            "grid_area": null,
            "grid_template_columns": null,
            "flex": null,
            "_model_name": "LayoutModel",
            "justify_items": null,
            "grid_row": null,
            "max_height": null,
            "align_content": null,
            "visibility": null,
            "align_self": null,
            "height": null,
            "min_height": null,
            "padding": null,
            "grid_auto_rows": null,
            "grid_gap": null,
            "max_width": null,
            "order": null,
            "_view_module_version": "1.2.0",
            "grid_template_areas": null,
            "object_position": null,
            "object_fit": null,
            "grid_auto_columns": null,
            "margin": null,
            "display": null,
            "left": null
          }
        },
        "fd6bb2e99c3b4c90b465be649a39bfcc": {
          "model_module": "@jupyter-widgets/controls",
          "model_name": "HBoxModel",
          "model_module_version": "1.5.0",
          "state": {
            "_view_name": "HBoxView",
            "_dom_classes": [],
            "_model_name": "HBoxModel",
            "_view_module": "@jupyter-widgets/controls",
            "_model_module_version": "1.5.0",
            "_view_count": null,
            "_view_module_version": "1.5.0",
            "box_style": "",
            "layout": "IPY_MODEL_75e49415c6d44a0484067a53e55291a4",
            "_model_module": "@jupyter-widgets/controls",
            "children": [
              "IPY_MODEL_426ce8a2d34942a0ac619b47c9f4ac24",
              "IPY_MODEL_bf97d5f3301b4bbab1f76f25e6f511e5",
              "IPY_MODEL_4d54daebbaa5424ea16a4900621a25e0"
            ]
          }
        },
        "75e49415c6d44a0484067a53e55291a4": {
          "model_module": "@jupyter-widgets/base",
          "model_name": "LayoutModel",
          "model_module_version": "1.2.0",
          "state": {
            "_view_name": "LayoutView",
            "grid_template_rows": null,
            "right": null,
            "justify_content": null,
            "_view_module": "@jupyter-widgets/base",
            "overflow": null,
            "_model_module_version": "1.2.0",
            "_view_count": null,
            "flex_flow": null,
            "width": null,
            "min_width": null,
            "border": null,
            "align_items": null,
            "bottom": null,
            "_model_module": "@jupyter-widgets/base",
            "top": null,
            "grid_column": null,
            "overflow_y": null,
            "overflow_x": null,
            "grid_auto_flow": null,
            "grid_area": null,
            "grid_template_columns": null,
            "flex": null,
            "_model_name": "LayoutModel",
            "justify_items": null,
            "grid_row": null,
            "max_height": null,
            "align_content": null,
            "visibility": null,
            "align_self": null,
            "height": null,
            "min_height": null,
            "padding": null,
            "grid_auto_rows": null,
            "grid_gap": null,
            "max_width": null,
            "order": null,
            "_view_module_version": "1.2.0",
            "grid_template_areas": null,
            "object_position": null,
            "object_fit": null,
            "grid_auto_columns": null,
            "margin": null,
            "display": null,
            "left": null
          }
        },
        "426ce8a2d34942a0ac619b47c9f4ac24": {
          "model_module": "@jupyter-widgets/controls",
          "model_name": "HTMLModel",
          "model_module_version": "1.5.0",
          "state": {
            "_view_name": "HTMLView",
            "style": "IPY_MODEL_68b04ade679944959cfe12690679ad32",
            "_dom_classes": [],
            "description": "",
            "_model_name": "HTMLModel",
            "placeholder": "​",
            "_view_module": "@jupyter-widgets/controls",
            "_model_module_version": "1.5.0",
            "value": "Shuffling movielens-train.tfrecord...:   0%",
            "_view_count": null,
            "_view_module_version": "1.5.0",
            "description_tooltip": null,
            "_model_module": "@jupyter-widgets/controls",
            "layout": "IPY_MODEL_c4bb8a3ab15e465c8b820b90c5858cdd"
          }
        },
        "bf97d5f3301b4bbab1f76f25e6f511e5": {
          "model_module": "@jupyter-widgets/controls",
          "model_name": "FloatProgressModel",
          "model_module_version": "1.5.0",
          "state": {
            "_view_name": "ProgressView",
            "style": "IPY_MODEL_cda77950fd96475e91ae301ad856b768",
            "_dom_classes": [],
            "description": "",
            "_model_name": "FloatProgressModel",
            "bar_style": "",
            "max": 1682,
            "_view_module": "@jupyter-widgets/controls",
            "_model_module_version": "1.5.0",
            "value": 1682,
            "_view_count": null,
            "_view_module_version": "1.5.0",
            "orientation": "horizontal",
            "min": 0,
            "description_tooltip": null,
            "_model_module": "@jupyter-widgets/controls",
            "layout": "IPY_MODEL_0c430080b12141669168d3551451f226"
          }
        },
        "4d54daebbaa5424ea16a4900621a25e0": {
          "model_module": "@jupyter-widgets/controls",
          "model_name": "HTMLModel",
          "model_module_version": "1.5.0",
          "state": {
            "_view_name": "HTMLView",
            "style": "IPY_MODEL_13faaee3bdba401797252441b09c8d9d",
            "_dom_classes": [],
            "description": "",
            "_model_name": "HTMLModel",
            "placeholder": "​",
            "_view_module": "@jupyter-widgets/controls",
            "_model_module_version": "1.5.0",
            "value": " 0/1682 [00:00&lt;?, ? examples/s]",
            "_view_count": null,
            "_view_module_version": "1.5.0",
            "description_tooltip": null,
            "_model_module": "@jupyter-widgets/controls",
            "layout": "IPY_MODEL_09be10048c1b4d6fa143e3bb52a88f74"
          }
        },
        "68b04ade679944959cfe12690679ad32": {
          "model_module": "@jupyter-widgets/controls",
          "model_name": "DescriptionStyleModel",
          "model_module_version": "1.5.0",
          "state": {
            "_view_name": "StyleView",
            "_model_name": "DescriptionStyleModel",
            "description_width": "",
            "_view_module": "@jupyter-widgets/base",
            "_model_module_version": "1.5.0",
            "_view_count": null,
            "_view_module_version": "1.2.0",
            "_model_module": "@jupyter-widgets/controls"
          }
        },
        "c4bb8a3ab15e465c8b820b90c5858cdd": {
          "model_module": "@jupyter-widgets/base",
          "model_name": "LayoutModel",
          "model_module_version": "1.2.0",
          "state": {
            "_view_name": "LayoutView",
            "grid_template_rows": null,
            "right": null,
            "justify_content": null,
            "_view_module": "@jupyter-widgets/base",
            "overflow": null,
            "_model_module_version": "1.2.0",
            "_view_count": null,
            "flex_flow": null,
            "width": null,
            "min_width": null,
            "border": null,
            "align_items": null,
            "bottom": null,
            "_model_module": "@jupyter-widgets/base",
            "top": null,
            "grid_column": null,
            "overflow_y": null,
            "overflow_x": null,
            "grid_auto_flow": null,
            "grid_area": null,
            "grid_template_columns": null,
            "flex": null,
            "_model_name": "LayoutModel",
            "justify_items": null,
            "grid_row": null,
            "max_height": null,
            "align_content": null,
            "visibility": null,
            "align_self": null,
            "height": null,
            "min_height": null,
            "padding": null,
            "grid_auto_rows": null,
            "grid_gap": null,
            "max_width": null,
            "order": null,
            "_view_module_version": "1.2.0",
            "grid_template_areas": null,
            "object_position": null,
            "object_fit": null,
            "grid_auto_columns": null,
            "margin": null,
            "display": null,
            "left": null
          }
        },
        "cda77950fd96475e91ae301ad856b768": {
          "model_module": "@jupyter-widgets/controls",
          "model_name": "ProgressStyleModel",
          "model_module_version": "1.5.0",
          "state": {
            "_view_name": "StyleView",
            "_model_name": "ProgressStyleModel",
            "description_width": "",
            "_view_module": "@jupyter-widgets/base",
            "_model_module_version": "1.5.0",
            "_view_count": null,
            "_view_module_version": "1.2.0",
            "bar_color": null,
            "_model_module": "@jupyter-widgets/controls"
          }
        },
        "0c430080b12141669168d3551451f226": {
          "model_module": "@jupyter-widgets/base",
          "model_name": "LayoutModel",
          "model_module_version": "1.2.0",
          "state": {
            "_view_name": "LayoutView",
            "grid_template_rows": null,
            "right": null,
            "justify_content": null,
            "_view_module": "@jupyter-widgets/base",
            "overflow": null,
            "_model_module_version": "1.2.0",
            "_view_count": null,
            "flex_flow": null,
            "width": null,
            "min_width": null,
            "border": null,
            "align_items": null,
            "bottom": null,
            "_model_module": "@jupyter-widgets/base",
            "top": null,
            "grid_column": null,
            "overflow_y": null,
            "overflow_x": null,
            "grid_auto_flow": null,
            "grid_area": null,
            "grid_template_columns": null,
            "flex": null,
            "_model_name": "LayoutModel",
            "justify_items": null,
            "grid_row": null,
            "max_height": null,
            "align_content": null,
            "visibility": null,
            "align_self": null,
            "height": null,
            "min_height": null,
            "padding": null,
            "grid_auto_rows": null,
            "grid_gap": null,
            "max_width": null,
            "order": null,
            "_view_module_version": "1.2.0",
            "grid_template_areas": null,
            "object_position": null,
            "object_fit": null,
            "grid_auto_columns": null,
            "margin": null,
            "display": null,
            "left": null
          }
        },
        "13faaee3bdba401797252441b09c8d9d": {
          "model_module": "@jupyter-widgets/controls",
          "model_name": "DescriptionStyleModel",
          "model_module_version": "1.5.0",
          "state": {
            "_view_name": "StyleView",
            "_model_name": "DescriptionStyleModel",
            "description_width": "",
            "_view_module": "@jupyter-widgets/base",
            "_model_module_version": "1.5.0",
            "_view_count": null,
            "_view_module_version": "1.2.0",
            "_model_module": "@jupyter-widgets/controls"
          }
        },
        "09be10048c1b4d6fa143e3bb52a88f74": {
          "model_module": "@jupyter-widgets/base",
          "model_name": "LayoutModel",
          "model_module_version": "1.2.0",
          "state": {
            "_view_name": "LayoutView",
            "grid_template_rows": null,
            "right": null,
            "justify_content": null,
            "_view_module": "@jupyter-widgets/base",
            "overflow": null,
            "_model_module_version": "1.2.0",
            "_view_count": null,
            "flex_flow": null,
            "width": null,
            "min_width": null,
            "border": null,
            "align_items": null,
            "bottom": null,
            "_model_module": "@jupyter-widgets/base",
            "top": null,
            "grid_column": null,
            "overflow_y": null,
            "overflow_x": null,
            "grid_auto_flow": null,
            "grid_area": null,
            "grid_template_columns": null,
            "flex": null,
            "_model_name": "LayoutModel",
            "justify_items": null,
            "grid_row": null,
            "max_height": null,
            "align_content": null,
            "visibility": null,
            "align_self": null,
            "height": null,
            "min_height": null,
            "padding": null,
            "grid_auto_rows": null,
            "grid_gap": null,
            "max_width": null,
            "order": null,
            "_view_module_version": "1.2.0",
            "grid_template_areas": null,
            "object_position": null,
            "object_fit": null,
            "grid_auto_columns": null,
            "margin": null,
            "display": null,
            "left": null
          }
        }
      }
    }
  },
  "cells": [
    {
      "cell_type": "markdown",
      "metadata": {
        "id": "view-in-github",
        "colab_type": "text"
      },
      "source": [
        "<a href=\"https://colab.research.google.com/github/saharfk/tensorflow-movie-recommender/blob/main/tensorflow_recommenders.ipynb\" target=\"_parent\"><img src=\"https://colab.research.google.com/assets/colab-badge.svg\" alt=\"Open In Colab\"/></a>"
      ]
    },
    {
      "cell_type": "markdown",
      "source": [
        "# TensorFlow Movie Recommender\n"
      ],
      "metadata": {
        "id": "sIamQzlrJs6v"
      }
    },
    {
      "cell_type": "markdown",
      "source": [
        "Real-world recommender systems are often composed of two stages:\n",
        "\n",
        "1. The retrieval stage is responsible for selecting an initial set of hundreds of candidates from all possible candidates. The main objective of this model is to efficiently weed out all candidates that the user is not interested in. Because the retrieval model may be dealing with millions of candidates, it has to be computationally efficient.\n",
        "2. The ranking stage takes the outputs of the retrieval model and fine-tunes them to select the best possible handful of recommendations. Its task is to narrow down the set of items the user may be interested in to a shortlist of likely candidates.\n",
        "\n",
        "Retrieval models are often composed of two sub-models:\n",
        "\n",
        "1. A query model computing the query representation (normally a fixed-dimensionality embedding vector) using query features.\n",
        "2. A candidate model computing the candidate representation (an equally-sized vector) using the candidate features\n",
        "\n",
        "The outputs of the two models are then multiplied together to give a query-candidate affinity score, with higher scores expressing a better match between the candidate and the query.\n",
        "\n",
        "we're going to build and train such a two-tower model using the Movielens dataset.\n",
        "\n",
        "We're going to:\n",
        "\n",
        "1. Get our data and split it into a training and test set.\n",
        "2. Implement a retrieval model.\n",
        "3. Fit and evaluate it.\n",
        "4. Export it for efficient serving by building an approximate nearest neighbours (ANN) index.\n",
        "\n",
        "\n"
      ],
      "metadata": {
        "id": "82xwffOiJ6lv"
      }
    },
    {
      "cell_type": "markdown",
      "source": [
        "## The dataset\n",
        "\n",
        "The Movielens dataset is a classic dataset from the [GroupLens](https://grouplens.org/datasets/movielens/) research group at the University of Minnesota. It contains a set of ratings given to movies by a set of users, and is a workhorse of recommender system research.\n",
        "\n",
        "The data can be treated in two ways:\n",
        "\n",
        "1. It can be interpreted as expressesing which movies the users watched (and rated), and which they did not. This is a form of implicit feedback, where users' watches tell us which things they prefer to see and which they'd rather not see.\n",
        "2. It can also be seen as expressesing how much the users liked the movies they did watch. This is a form of explicit feedback: given that a user watched a movie, we can tell roughly how much they liked by looking at the rating they have given.\n",
        "\n",
        "In this tutorial, we are focusing on a retrieval system: a model that predicts a set of movies from the catalogue that the user is likely to watch. Often, implicit data is more useful here, and so we are going to treat Movielens as an implicit system. This means that every movie a user watched is a positive example, and every movie they have not seen is an implicit negative example.\n",
        "![image.png](data:image/png;base64,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)"
      ],
      "metadata": {
        "id": "W2HXMpGOP4ho"
      }
    },
    {
      "cell_type": "markdown",
      "source": [
        "### Import TFRS\n",
        "\n",
        "First, install and import TFRS:*italicized text*"
      ],
      "metadata": {
        "id": "xwieWVSwJ77F"
      }
    },
    {
      "cell_type": "code",
      "source": [
        "!pip install -q tensorflow-recommenders\n",
        "!pip install -q --upgrade tensorflow-datasets"
      ],
      "metadata": {
        "id": "8urqdr_gJJG7",
        "colab": {
          "base_uri": "https://localhost:8080/"
        },
        "outputId": "891f63c4-a400-40cc-fd99-bf01d70894b6"
      },
      "execution_count": 1,
      "outputs": [
        {
          "output_type": "stream",
          "name": "stdout",
          "text": [
            "\u001b[K     |████████████████████████████████| 85 kB 2.9 MB/s \n",
            "\u001b[K     |████████████████████████████████| 4.0 MB 8.7 MB/s \n",
            "\u001b[?25h"
          ]
        }
      ]
    },
    {
      "cell_type": "code",
      "execution_count": 2,
      "metadata": {
        "id": "jLi3VM8bI75n"
      },
      "outputs": [],
      "source": [
        "from typing import Dict, Text\n",
        "\n",
        "import numpy as np\n",
        "import tensorflow as tf\n",
        "\n",
        "import tensorflow_datasets as tfds\n",
        "import tensorflow_recommenders as tfrs\n",
        "import pprint\n",
        "import matplotlib.pyplot as plt"
      ]
    },
    {
      "cell_type": "markdown",
      "source": [
        "## Preparing the dataset\n",
        "\n",
        "Let's first have a look at the data.\n",
        "\n",
        "We use the MovieLens dataset from [Tensorflow Datasets](https://www.tensorflow.org/datasets). Loading `movielens/100k_ratings` yields a `tf.data.Dataset` object containing the ratings data and loading `movielens/100k_movies` yields a `tf.data.Dataset` object containing only the movies data.\n",
        "\n",
        "Note that since the MovieLens dataset does not have predefined splits, all data are under `train` split."
      ],
      "metadata": {
        "id": "nXiQ4m4HKEZi"
      }
    },
    {
      "cell_type": "markdown",
      "source": [
        "**Build vocabularies to convert user ids and movie titles into integer indices for embedding layers:** "
      ],
      "metadata": {
        "id": "G1yGsaAQKYfU"
      }
    },
    {
      "cell_type": "markdown",
      "source": [
        "The ratings dataset returns a dictionary of movie id, user id, the assigned rating, timestamp, movie information, and user information:"
      ],
      "metadata": {
        "id": "E-u3zipiQOK1"
      }
    },
    {
      "cell_type": "code",
      "source": [
        "# Ratings data.\n",
        "ratings = tfds.load('movielens/100k-ratings', split=\"train\")\n",
        "ratingsFullDetail = tfds.load('movielens/100k-ratings', split=\"train\")\n",
        "\n",
        "for x in ratings.take(1).as_numpy_iterator():\n",
        "  pprint.pprint(x)\n"
      ],
      "metadata": {
        "id": "HA7Y7N-6Ja2l",
        "colab": {
          "base_uri": "https://localhost:8080/"
        },
        "outputId": "d69c97fa-6de6-42be-d714-a76ef97df274"
      },
      "execution_count": 4,
      "outputs": [
        {
          "output_type": "stream",
          "name": "stdout",
          "text": [
            "{'bucketized_user_age': 45.0,\n",
            " 'movie_genres': array([7]),\n",
            " 'movie_id': b'357',\n",
            " 'movie_title': b\"One Flew Over the Cuckoo's Nest (1975)\",\n",
            " 'raw_user_age': 46.0,\n",
            " 'timestamp': 879024327,\n",
            " 'user_gender': True,\n",
            " 'user_id': b'138',\n",
            " 'user_occupation_label': 4,\n",
            " 'user_occupation_text': b'doctor',\n",
            " 'user_rating': 4.0,\n",
            " 'user_zip_code': b'53211'}\n"
          ]
        }
      ]
    },
    {
      "cell_type": "code",
      "source": [
        "movie_title_lookup = tf.keras.layers.StringLookup()"
      ],
      "metadata": {
        "id": "0x7qi5kDN1k3"
      },
      "execution_count": 5,
      "outputs": []
    },
    {
      "cell_type": "markdown",
      "source": [
        "The movies dataset contains the movie id, movie title, and data on what genres it belongs to. Note that the genres are encoded with integer labels."
      ],
      "metadata": {
        "id": "Dt6iawrnQS94"
      }
    },
    {
      "cell_type": "markdown",
      "source": [
        "In this program, we focus on movie ratings to recommend.\n",
        "\n",
        "We keep only the `user_id`, and `movie_title` fields in the dataset."
      ],
      "metadata": {
        "id": "QCSJxhaGQrCd"
      }
    },
    {
      "cell_type": "code",
      "source": [
        "# Features of all the available movies.\n",
        "movies = tfds.load('movielens/100k-movies', split=\"train\")\n",
        "\n",
        "for x in movies.take(1).as_numpy_iterator():\n",
        "  pprint.pprint(x)"
      ],
      "metadata": {
        "id": "JtGiVrsPNVum",
        "colab": {
          "base_uri": "https://localhost:8080/",
          "height": 220,
          "referenced_widgets": [
            "5f62b0d24b7a4ec9870c694d22126051",
            "1d1c38efd7874f14b5554bd0c272f833",
            "f3420078e499425d8a30762325bc5db7",
            "6c0de986473d4372bd0e9409bfbb7f25",
            "5b06a8b08b9e40eb96730dfae10bef7d",
            "18adac64348d49cc8123cd6c2fcfd711",
            "4b9b170df340471ebad0d77735785c38",
            "585ae92baef14f1b9ac2880ca23da2d6",
            "17025202f1a64bc4bb76853b40302f57",
            "6e60043cdb644c339f47310bf4bbb9af",
            "d08ea683412c462f857b36569361cbda",
            "bab2e148c9dc468a8988234c4a40cb9d",
            "9f995d7438134dd7b4de526532782f07",
            "9e76a0d5dc684086ad55dfd9bce4ab31",
            "647a6c38a6de4a119dc5db27c7c773de",
            "d8c9d747ce1643eaaa655d25afdbaaec",
            "c45d48aef33f4cc191f1694de51be49c",
            "66e69b0e0de8410db171b41648a0e175",
            "83e2e410feff4063b110a81c51bd474f",
            "de54408ea7634ef9aaed53691fa5ac34",
            "01e34ae6c949499ebfb268aed1be381a",
            "a8b2f7ae0d0c47cb8995dbbcc9f45b34",
            "56fe1aec45fe4eabae2be5831b151e74",
            "2f507df8605f468e809e0a602430412b",
            "cf35e4c0068d4ee1b0b96507abc13c6e",
            "6f6242742b9d43efabbdafd3c1f9abc2",
            "0a26f962c5b34559af8a66484ce38c26",
            "eb9a0b73bbe743e18bd4826af8471899",
            "bcba1524ca754eb5a76fdc7160aac9eb",
            "658f4f0d0da84572b560f11650ab3e05",
            "50d9a07edb16473788774c964b6afc66",
            "02b78e04db8c481ea08227e6e5709a4a",
            "9b32b655881f4817b00ac2f5458d5fe9",
            "fb5025630c02403e80a8c445cdeadbbb",
            "cd47581203464378b3b45f1dcd7e41be",
            "5111071b91614d449131d68819bed5d2",
            "c7d99c317a6e4439b157842ca38938e4",
            "1ff076924e954566b15691ec6756ecef",
            "c86095d247914d35b5c3c4e3f94ef06b",
            "dd711f9e35f644e398deb478bc759b9a",
            "6446ee33e0374965a5c0974d6c2b7dc1",
            "3de24fa0694a4b18aa2429aefb207a41",
            "2b014afb7b3944239451ac76aa8770d5",
            "9a7572e485cb4320bcda98930f63f1c4",
            "9c284e820a0a4de29c49dfc64f086b11",
            "ab214c92d8244f2999f965e02ca346df",
            "dbb5b7643f62436d8befaa901fdc890c",
            "3cf2e6689d3446809c02cccb236a88d1",
            "2852dbb78f3e456bb4d2bb601402ab7a",
            "c646534cc611440185fd76c76f12aad0",
            "8540177d736f4f0a80cf1b77b71ee59b",
            "b7faa0366a4b46e69d8aecbb9091c3d1",
            "f2cc0ed98454428f873d31a8e97675f2",
            "8d74de3e9e694f17b75aab54d4c94bbc",
            "80321864c48240d0b50509972f6a7adb",
            "fd6bb2e99c3b4c90b465be649a39bfcc",
            "75e49415c6d44a0484067a53e55291a4",
            "426ce8a2d34942a0ac619b47c9f4ac24",
            "bf97d5f3301b4bbab1f76f25e6f511e5",
            "4d54daebbaa5424ea16a4900621a25e0",
            "68b04ade679944959cfe12690679ad32",
            "c4bb8a3ab15e465c8b820b90c5858cdd",
            "cda77950fd96475e91ae301ad856b768",
            "0c430080b12141669168d3551451f226",
            "13faaee3bdba401797252441b09c8d9d",
            "09be10048c1b4d6fa143e3bb52a88f74"
          ]
        },
        "outputId": "3c5de192-7e4d-47a2-a70f-4f5e25323456"
      },
      "execution_count": 6,
      "outputs": [
        {
          "output_type": "stream",
          "name": "stdout",
          "text": [
            "\u001b[1mDownloading and preparing dataset 4.70 MiB (download: 4.70 MiB, generated: 150.35 KiB, total: 4.84 MiB) to /root/tensorflow_datasets/movielens/100k-movies/0.1.0...\u001b[0m\n"
          ]
        },
        {
          "output_type": "display_data",
          "data": {
            "application/vnd.jupyter.widget-view+json": {
              "model_id": "5f62b0d24b7a4ec9870c694d22126051",
              "version_minor": 0,
              "version_major": 2
            },
            "text/plain": [
              "Dl Completed...: 0 url [00:00, ? url/s]"
            ]
          },
          "metadata": {}
        },
        {
          "output_type": "display_data",
          "data": {
            "application/vnd.jupyter.widget-view+json": {
              "model_id": "bab2e148c9dc468a8988234c4a40cb9d",
              "version_minor": 0,
              "version_major": 2
            },
            "text/plain": [
              "Dl Size...: 0 MiB [00:00, ? MiB/s]"
            ]
          },
          "metadata": {}
        },
        {
          "output_type": "display_data",
          "data": {
            "application/vnd.jupyter.widget-view+json": {
              "model_id": "56fe1aec45fe4eabae2be5831b151e74",
              "version_minor": 0,
              "version_major": 2
            },
            "text/plain": [
              "Extraction completed...: 0 file [00:00, ? file/s]"
            ]
          },
          "metadata": {}
        },
        {
          "output_type": "display_data",
          "data": {
            "application/vnd.jupyter.widget-view+json": {
              "model_id": "fb5025630c02403e80a8c445cdeadbbb",
              "version_minor": 0,
              "version_major": 2
            },
            "text/plain": [
              "Generating splits...:   0%|          | 0/1 [00:00<?, ? splits/s]"
            ]
          },
          "metadata": {}
        },
        {
          "output_type": "display_data",
          "data": {
            "application/vnd.jupyter.widget-view+json": {
              "model_id": "9c284e820a0a4de29c49dfc64f086b11",
              "version_minor": 0,
              "version_major": 2
            },
            "text/plain": [
              "Generating train examples...:   0%|          | 0/1682 [00:00<?, ? examples/s]"
            ]
          },
          "metadata": {}
        },
        {
          "output_type": "display_data",
          "data": {
            "application/vnd.jupyter.widget-view+json": {
              "model_id": "fd6bb2e99c3b4c90b465be649a39bfcc",
              "version_minor": 0,
              "version_major": 2
            },
            "text/plain": [
              "Shuffling movielens-train.tfrecord...:   0%|          | 0/1682 [00:00<?, ? examples/s]"
            ]
          },
          "metadata": {}
        },
        {
          "output_type": "stream",
          "name": "stdout",
          "text": [
            "\u001b[1mDataset movielens downloaded and prepared to /root/tensorflow_datasets/movielens/100k-movies/0.1.0. Subsequent calls will reuse this data.\u001b[0m\n",
            "{'movie_genres': array([4]),\n",
            " 'movie_id': b'1681',\n",
            " 'movie_title': b'You So Crazy (1994)'}\n"
          ]
        }
      ]
    },
    {
      "cell_type": "code",
      "source": [
        "\n",
        "# Select the basic features.\n",
        "ratings = ratings.map(lambda x: {\n",
        "    \"movie_title\": x[\"movie_title\"],\n",
        "    \"user_id\": x[\"user_id\"]\n",
        "})\n",
        "ratingsFullDetail=ratingsFullDetail.map(lambda x: {\n",
        "    \"movie_title\": x[\"movie_title\"],\n",
        "    \"user_id\": x[\"user_id\"],\n",
        "    \"user_occupation\": x[\"user_occupation_text\"],\n",
        "    \"movie_genres\": x[\"movie_genres\"]\n",
        "})"
      ],
      "metadata": {
        "id": "yI-OSJcFKpfl"
      },
      "execution_count": 7,
      "outputs": []
    },
    {
      "cell_type": "code",
      "source": [
        "movies = movies.map(lambda x: x[\"movie_title\"])"
      ],
      "metadata": {
        "id": "zM0_dQIwB3ku"
      },
      "execution_count": 8,
      "outputs": []
    },
    {
      "cell_type": "code",
      "source": [
        "user_ids_vocabulary = tf.keras.layers.StringLookup(mask_token=None)\n",
        "user_ids_vocabulary.adapt(ratings.map(lambda x: x[\"user_id\"]))\n",
        "\n",
        "movie_titles_vocabulary = tf.keras.layers.StringLookup(mask_token=None)\n",
        "movie_titles_vocabulary.adapt(movies)"
      ],
      "metadata": {
        "id": "ULICVwchJ8tU"
      },
      "execution_count": 9,
      "outputs": []
    },
    {
      "cell_type": "markdown",
      "source": [
        "### The full model\n",
        "\n",
        "We can now put it all together into a model. TFRS exposes a base model class (`tfrs.models.Model`) which streamlines building models: all we need to do is to set up the components in the `__init__` method, and implement the `compute_loss` method, taking in the raw features and returning a loss value.\n",
        "\n",
        "The base model will then take care of creating the appropriate training loop to fit our model."
      ],
      "metadata": {
        "id": "x_ll_w4gK1lK"
      }
    },
    {
      "cell_type": "code",
      "source": [
        "class MovieLensModel(tfrs.Model):\n",
        "  # We derive from a custom base class to help reduce boilerplate. Under the hood,\n",
        "  # these are still plain Keras Models.\n",
        "\n",
        "  def __init__(\n",
        "      self,\n",
        "      user_model: tf.keras.Model,\n",
        "      movie_model: tf.keras.Model,\n",
        "      task: tfrs.tasks.Retrieval):\n",
        "    super().__init__()\n",
        "\n",
        "    # Set up user and movie representations.\n",
        "    self.user_model = user_model\n",
        "    self.movie_model = movie_model\n",
        "\n",
        "    # Set up a retrieval task.\n",
        "    self.task = task\n",
        "\n",
        "  def compute_loss(self, features: Dict[Text, tf.Tensor], training=False) -> tf.Tensor:\n",
        "    # Define how the loss is computed.\n",
        "\n",
        "    user_embeddings = self.user_model(features[\"user_id\"])\n",
        "    movie_embeddings = self.movie_model(features[\"movie_title\"])\n",
        "\n",
        "    return self.task(user_embeddings, movie_embeddings)"
      ],
      "metadata": {
        "id": "jtR_gxbfnPfU"
      },
      "execution_count": 10,
      "outputs": []
    },
    {
      "cell_type": "markdown",
      "source": [
        "\n",
        "\n",
        "Define the two models and the retrieval task."
      ],
      "metadata": {
        "id": "oZ3lfR3iKwyQ"
      }
    },
    {
      "cell_type": "code",
      "source": [
        "# Define user and movie models.\n",
        "user_model = tf.keras.Sequential([\n",
        "    user_ids_vocabulary,\n",
        "    tf.keras.layers.Embedding(user_ids_vocabulary.vocab_size(), 64)\n",
        "])\n",
        "movie_model = tf.keras.Sequential([\n",
        "    movie_titles_vocabulary,\n",
        "    tf.keras.layers.Embedding(movie_titles_vocabulary.vocab_size(), 64)\n",
        "])\n",
        "\n",
        "# Define your objectives.\n",
        "task = tfrs.tasks.Retrieval(metrics=tfrs.metrics.FactorizedTopK(\n",
        "    movies.batch(128).map(movie_model)\n",
        "  )\n",
        ")"
      ],
      "metadata": {
        "id": "C9bj_P-FnSSj",
        "colab": {
          "base_uri": "https://localhost:8080/"
        },
        "outputId": "d0183720-7894-4f21-d3af-288e7bd17fb0"
      },
      "execution_count": 11,
      "outputs": [
        {
          "output_type": "stream",
          "name": "stdout",
          "text": [
            "WARNING:tensorflow:vocab_size is deprecated, please use vocabulary_size.\n"
          ]
        },
        {
          "output_type": "stream",
          "name": "stderr",
          "text": [
            "WARNING:tensorflow:vocab_size is deprecated, please use vocabulary_size.\n"
          ]
        },
        {
          "output_type": "stream",
          "name": "stdout",
          "text": [
            "WARNING:tensorflow:vocab_size is deprecated, please use vocabulary_size.\n"
          ]
        },
        {
          "output_type": "stream",
          "name": "stderr",
          "text": [
            "WARNING:tensorflow:vocab_size is deprecated, please use vocabulary_size.\n"
          ]
        }
      ]
    },
    {
      "cell_type": "markdown",
      "source": [
        "## Fitting and evaluating\n",
        "\n",
        "After defining the model, we can use standard Keras fitting and evaluation routines to fit and evaluate the model.\n",
        "\n",
        "Let's first instantiate the model.\n",
        "\n"
      ],
      "metadata": {
        "id": "QJDjH7jxK6wO"
      }
    },
    {
      "cell_type": "code",
      "source": [
        "# Create a retrieval model.\n",
        "model = MovieLensModel(user_model, movie_model, task)\n",
        "model.compile(optimizer=tf.keras.optimizers.Adagrad(0.5))\n",
        "\n"
      ],
      "metadata": {
        "id": "fds9cGtinW6X"
      },
      "execution_count": 12,
      "outputs": []
    },
    {
      "cell_type": "markdown",
      "source": [
        "Then train the  model:"
      ],
      "metadata": {
        "id": "C74Wku6gRr0y"
      }
    },
    {
      "cell_type": "code",
      "source": [
        "# Train for 10 epochs.\n",
        "history=model.fit(ratings.batch(4096), epochs=10)"
      ],
      "metadata": {
        "id": "WFK5mBpCRrCQ",
        "colab": {
          "base_uri": "https://localhost:8080/"
        },
        "outputId": "74cdf244-f8f9-4909-8db3-1984d62391f1"
      },
      "execution_count": 13,
      "outputs": [
        {
          "output_type": "stream",
          "name": "stdout",
          "text": [
            "Epoch 1/10\n",
            "25/25 [==============================] - 32s 1s/step - factorized_top_k/top_1_categorical_accuracy: 6.0000e-05 - factorized_top_k/top_5_categorical_accuracy: 0.0015 - factorized_top_k/top_10_categorical_accuracy: 0.0048 - factorized_top_k/top_50_categorical_accuracy: 0.0448 - factorized_top_k/top_100_categorical_accuracy: 0.1018 - loss: 33076.6716 - regularization_loss: 0.0000e+00 - total_loss: 33076.6716\n",
            "Epoch 2/10\n",
            "25/25 [==============================] - 29s 1s/step - factorized_top_k/top_1_categorical_accuracy: 1.9000e-04 - factorized_top_k/top_5_categorical_accuracy: 0.0050 - factorized_top_k/top_10_categorical_accuracy: 0.0146 - factorized_top_k/top_50_categorical_accuracy: 0.1051 - factorized_top_k/top_100_categorical_accuracy: 0.2098 - loss: 31011.7550 - regularization_loss: 0.0000e+00 - total_loss: 31011.7550\n",
            "Epoch 3/10\n",
            "25/25 [==============================] - 28s 1s/step - factorized_top_k/top_1_categorical_accuracy: 5.6000e-04 - factorized_top_k/top_5_categorical_accuracy: 0.0082 - factorized_top_k/top_10_categorical_accuracy: 0.0222 - factorized_top_k/top_50_categorical_accuracy: 0.1451 - factorized_top_k/top_100_categorical_accuracy: 0.2669 - loss: 30422.3114 - regularization_loss: 0.0000e+00 - total_loss: 30422.3114\n",
            "Epoch 4/10\n",
            "25/25 [==============================] - 29s 1s/step - factorized_top_k/top_1_categorical_accuracy: 6.8000e-04 - factorized_top_k/top_5_categorical_accuracy: 0.0109 - factorized_top_k/top_10_categorical_accuracy: 0.0286 - factorized_top_k/top_50_categorical_accuracy: 0.1765 - factorized_top_k/top_100_categorical_accuracy: 0.3137 - loss: 30072.7024 - regularization_loss: 0.0000e+00 - total_loss: 30072.7024\n",
            "Epoch 5/10\n",
            "25/25 [==============================] - 30s 1s/step - factorized_top_k/top_1_categorical_accuracy: 6.3000e-04 - factorized_top_k/top_5_categorical_accuracy: 0.0119 - factorized_top_k/top_10_categorical_accuracy: 0.0313 - factorized_top_k/top_50_categorical_accuracy: 0.1982 - factorized_top_k/top_100_categorical_accuracy: 0.3453 - loss: 29815.4230 - regularization_loss: 0.0000e+00 - total_loss: 29815.4230\n",
            "Epoch 6/10\n",
            "25/25 [==============================] - 29s 1s/step - factorized_top_k/top_1_categorical_accuracy: 7.4000e-04 - factorized_top_k/top_5_categorical_accuracy: 0.0123 - factorized_top_k/top_10_categorical_accuracy: 0.0336 - factorized_top_k/top_50_categorical_accuracy: 0.2137 - factorized_top_k/top_100_categorical_accuracy: 0.3686 - loss: 29615.4955 - regularization_loss: 0.0000e+00 - total_loss: 29615.4955\n",
            "Epoch 7/10\n",
            "25/25 [==============================] - 29s 1s/step - factorized_top_k/top_1_categorical_accuracy: 6.9000e-04 - factorized_top_k/top_5_categorical_accuracy: 0.0127 - factorized_top_k/top_10_categorical_accuracy: 0.0348 - factorized_top_k/top_50_categorical_accuracy: 0.2271 - factorized_top_k/top_100_categorical_accuracy: 0.3884 - loss: 29452.6537 - regularization_loss: 0.0000e+00 - total_loss: 29452.6537\n",
            "Epoch 8/10\n",
            "25/25 [==============================] - 30s 1s/step - factorized_top_k/top_1_categorical_accuracy: 7.5000e-04 - factorized_top_k/top_5_categorical_accuracy: 0.0131 - factorized_top_k/top_10_categorical_accuracy: 0.0362 - factorized_top_k/top_50_categorical_accuracy: 0.2366 - factorized_top_k/top_100_categorical_accuracy: 0.4030 - loss: 29315.9733 - regularization_loss: 0.0000e+00 - total_loss: 29315.9733\n",
            "Epoch 9/10\n",
            "25/25 [==============================] - 29s 1s/step - factorized_top_k/top_1_categorical_accuracy: 7.5000e-04 - factorized_top_k/top_5_categorical_accuracy: 0.0136 - factorized_top_k/top_10_categorical_accuracy: 0.0371 - factorized_top_k/top_50_categorical_accuracy: 0.2458 - factorized_top_k/top_100_categorical_accuracy: 0.4155 - loss: 29200.9780 - regularization_loss: 0.0000e+00 - total_loss: 29200.9780\n",
            "Epoch 10/10\n",
            "25/25 [==============================] - 29s 1s/step - factorized_top_k/top_1_categorical_accuracy: 7.9000e-04 - factorized_top_k/top_5_categorical_accuracy: 0.0138 - factorized_top_k/top_10_categorical_accuracy: 0.0378 - factorized_top_k/top_50_categorical_accuracy: 0.2523 - factorized_top_k/top_100_categorical_accuracy: 0.4248 - loss: 29101.4982 - regularization_loss: 0.0000e+00 - total_loss: 29101.4982\n"
          ]
        }
      ]
    },
    {
      "cell_type": "code",
      "source": [
        "# history.history.keys()"
      ],
      "metadata": {
        "colab": {
          "base_uri": "https://localhost:8080/"
        },
        "id": "GqX-QtzbxhIR",
        "outputId": "62d7990a-294b-405d-c84b-fc1ef609cb03"
      },
      "execution_count": null,
      "outputs": [
        {
          "output_type": "execute_result",
          "data": {
            "text/plain": [
              "dict_keys(['factorized_top_k/top_1_categorical_accuracy', 'factorized_top_k/top_5_categorical_accuracy', 'factorized_top_k/top_10_categorical_accuracy', 'factorized_top_k/top_50_categorical_accuracy', 'factorized_top_k/top_100_categorical_accuracy', 'loss', 'regularization_loss', 'total_loss'])"
            ]
          },
          "metadata": {},
          "execution_count": 13
        }
      ]
    },
    {
      "cell_type": "code",
      "source": [
        "# accuracy = history.history[\"factorized_top_k/top_100_categorical_accuracy\"][-1]\n",
        "# print(f\"Top-100 accuracy: {accuracy:.2f}.\")"
      ],
      "metadata": {
        "colab": {
          "base_uri": "https://localhost:8080/"
        },
        "id": "0qWm4s702d0A",
        "outputId": "32688253-0c99-4a9e-e95a-45f884fa3286"
      },
      "execution_count": null,
      "outputs": [
        {
          "output_type": "stream",
          "name": "stdout",
          "text": [
            "Top-100 accuracy: 0.47.\n"
          ]
        }
      ]
    },
    {
      "cell_type": "code",
      "source": [
        "# loss = history.history[\"loss\"][-1]\n",
        "# print(f\"Total loss: {loss:.2f}.\")"
      ],
      "metadata": {
        "colab": {
          "base_uri": "https://localhost:8080/"
        },
        "id": "ZOwXR5qL2vV2",
        "outputId": "e316223e-f1e1-4265-f411-e4c0fbe901c9"
      },
      "execution_count": null,
      "outputs": [
        {
          "output_type": "stream",
          "name": "stdout",
          "text": [
            "Total loss: 10923.11.\n"
          ]
        }
      ]
    },
    {
      "cell_type": "code",
      "source": [
        "num_validation_runs = len(history.history[\"factorized_top_k/top_1_categorical_accuracy\"])\n",
        "print(num_validation_runs)\n",
        "epochs = [(x + 1)* 5 for x in range(num_validation_runs)]\n",
        "\n",
        "plt.plot(epochs, history.history[\"factorized_top_k/top_1_categorical_accuracy\"])\n",
        "plt.title(\"Accuracy vs epoch\")\n",
        "plt.xlabel(\"epoch\")\n",
        "plt.ylabel(\"Top-1 accuracy\");\n",
        "plt.legend()"
      ],
      "metadata": {
        "colab": {
          "base_uri": "https://localhost:8080/",
          "height": 347
        },
        "id": "l0ZJ3wvcTSis",
        "outputId": "0aad54e7-06bd-4711-f256-f2dbf3e234ab"
      },
      "execution_count": null,
      "outputs": [
        {
          "output_type": "stream",
          "name": "stderr",
          "text": [
            "WARNING:matplotlib.legend:No handles with labels found to put in legend.\n"
          ]
        },
        {
          "output_type": "stream",
          "name": "stdout",
          "text": [
            "10\n"
          ]
        },
        {
          "output_type": "execute_result",
          "data": {
            "text/plain": [
              "<matplotlib.legend.Legend at 0x7fc9400c5cd0>"
            ]
          },
          "metadata": {},
          "execution_count": 13
        },
        {
          "output_type": "display_data",
          "data": {
            "image/png": "[encoded data removed]",
            "text/plain": [
              "<Figure size 432x288 with 1 Axes>"
            ]
          },
          "metadata": {
            "needs_background": "light"
          }
        }
      ]
    },
    {
      "cell_type": "markdown",
      "source": [
        "##output of top_1_categorical_accuracy for 200 epochs\n",
        "\n",
        "\n",
        "![image.png](data:image/png;base64,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)"
      ],
      "metadata": {
        "id": "UdLbCorPTYlJ"
      }
    },
    {
      "cell_type": "code",
      "source": [
        "plt.plot(epochs, history.history[\"factorized_top_k/top_5_categorical_accuracy\"])\n",
        "plt.title(\"Accuracy vs epoch\")\n",
        "plt.xlabel(\"epoch\")\n",
        "plt.ylabel(\"Top-5 accuracy\");\n",
        "plt.legend()"
      ],
      "metadata": {
        "colab": {
          "base_uri": "https://localhost:8080/",
          "height": 330
        },
        "id": "02dUbjvcTBqG",
        "outputId": "228918b4-6699-43a4-9140-ae7b64eececa"
      },
      "execution_count": null,
      "outputs": [
        {
          "output_type": "stream",
          "name": "stderr",
          "text": [
            "WARNING:matplotlib.legend:No handles with labels found to put in legend.\n"
          ]
        },
        {
          "output_type": "execute_result",
          "data": {
            "text/plain": [
              "<matplotlib.legend.Legend at 0x7fc940073f90>"
            ]
          },
          "metadata": {},
          "execution_count": 14
        },
        {
          "output_type": "display_data",
          "data": {
            "image/png": "[encoded data removed]",
            "text/plain": [
              "<Figure size 432x288 with 1 Axes>"
            ]
          },
          "metadata": {
            "needs_background": "light"
          }
        }
      ]
    },
    {
      "cell_type": "markdown",
      "source": [
        "##output of top_5_categorical_accuracy for 200 epochs\n",
        "\n",
        "![image.png](data:image/png;base64,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)"
      ],
      "metadata": {
        "id": "OCoY13r8T5LB"
      }
    },
    {
      "cell_type": "code",
      "source": [
        "plt.plot(epochs, history.history[\"factorized_top_k/top_100_categorical_accuracy\"])\n",
        "plt.title(\"Accuracy vs epoch\")\n",
        "plt.xlabel(\"epoch\")\n",
        "plt.ylabel(\"Top-100 accuracy\");\n",
        "plt.legend()"
      ],
      "metadata": {
        "colab": {
          "base_uri": "https://localhost:8080/",
          "height": 330
        },
        "id": "c-vA-uePnLFX",
        "outputId": "24e1e43b-d447-4242-d45b-adc660e17bd4"
      },
      "execution_count": null,
      "outputs": [
        {
          "output_type": "stream",
          "name": "stderr",
          "text": [
            "WARNING:matplotlib.legend:No handles with labels found to put in legend.\n"
          ]
        },
        {
          "output_type": "execute_result",
          "data": {
            "text/plain": [
              "<matplotlib.legend.Legend at 0x7fc93ff54d50>"
            ]
          },
          "metadata": {},
          "execution_count": 15
        },
        {
          "output_type": "display_data",
          "data": {
            "image/png": "[encoded data removed]",
            "text/plain": [
              "<Figure size 432x288 with 1 Axes>"
            ]
          },
          "metadata": {
            "needs_background": "light"
          }
        }
      ]
    },
    {
      "cell_type": "markdown",
      "source": [
        "##output of top_100_categorical_accuracy for 200 epochs\n",
        "\n",
        "![image.png](data:image/png;base64,iVBORw0KGgoAAAANSUhEUgAAAYIAAAEWCAYAAABrDZDcAAAgAElEQVR4nO3deXxcdb3/8dcsSSZ7s7XpnnQBWmTfK5uCbF7BXdALiCCK8nN/KOr9cQV9XBXvxasPEEVAQIGyeRURrFwWf4oFWpYWWih0b5qmTbNNmmQy6++P75lkMtkmac6czJz38/GYR842M5/JJN/P+S7ne0BEREREREREREREREREREREREREREREXKoBSAB+pwOR7PE6HYC41nNAB1DkdCAibqdEIE5oAE7DnHlemOX31pmuSBolAnHCZcALwN3A5Wn75gO/B1qBNuCWlH2fBd4EuoGNwLHW9gSwJOW4u4EfWMtnAk3At4AW4DdAFfC49R4d1vK8lOdXW8c1W/v/YG1/A/hAynEFwH7gmBE+45vAv6Ss+633OxYIAL+zPl8nsAaYNcJrAMwBHrWeuw34Usq+7wGPAA9ifievAEel7F+GqXl1AhsYmnSLgf8CdgBdwD+sbUmfAnZan++7o8QmIjJpm4EvAMcBEQYLQR+wDvgpUIopME+19n0M2A2cAHgwBf9Ca994iSAK/BjTDFUM1AAfAUqAcuBhBgt7gD9jCtcqTGF/hrX9m9b2pIuA10f5jNcD96Wsvx+THAA+B/zJen+f9XuoGOE1vMDL1msVAouArcC51v7vYX5/H7Xi/AYmWRRYj83Ad6znvheTLA61nnsrJknMtWJYgfn9JPsIfo35XR0F9GOSiojIlDgVU3jVWutvAV+1lk/BnPmO1HyzCvjyKK85XiIIY5LKaI7GnPkDzAbimCSQbg6mME0W2o9gksNIlljHlljr92EKdIDPAP8EjhwjJoCTMGflqb6Nqa2ASQQvpOzzAnswzW6nYWpAqbX+B6zneIE+htYekpKJILWG9BJw8TixSg5T05Bk2+XAXzFNDgD3M9g8NB/TVBEd4XnzgS2TfM9WIJSyXgL8ynqvIPD/gBmYM+P5QDuDiSFVM/A8pjYxAzifoWf9qTZjagAfsN7vQsxnBfgtJrGttF7zJswZfLqFmOTTmfL4DkObkXalLMcxzWBzrMcua1vSDkwNoBaTGMf6fbakLPcCZWMcKzlOHWeSTcXAxzEFbrKgKcIUqkdhCq4FmL/L9GSwC1g8yuv2MnjmDVCPKRCTEmnHfx3TRHKSFcfRwKuYJqddmD6CGZiCN909wFVWjKsxzVWjeQC4BHPCtRGTHMDUiG6wHg3AE8Am4M605+/CNPUsHeM95qcsezFn8s0p+7wMJoMFwNuYJBzC/D7XjfHa4hKqEUg2fRCIAcsxhe/RmLbnv2M6kF/CNG38iME+gndbz70D0wZ+HMP7CF4DPolJMOcx2KY/mnJM00gnptD/95R9e4AngV8w2Edwesr+P2A6fL8M3DvO+6wEzgGuYbA2APAe4Agr3iAmMcSHPdv8ProxHd3F1vHvwvSTJB0HfBiTmL6Cac9/AXgRkyC/aX2GMzG1k5XWe90F3IypOfgwzXIayisitvsLZqRKuo9jzsz9mLPWP2BG1OwHfp5y3OcxZ84HMCN4kqN1jseMiunGNLs8wPBRQ6nmYDpKD2DOkD/H0IuoqjFn/nsxTUS/T3v+HUAPmTWXPI2p3dSnbLvE+hw91nv8nNFr53Osz9NixfICcLa1L33U0KsMjqQCOBz4G2ZU0EbgQyn7ioH/xtRoujDNY8WMfEHZc5hakIiIWK7HDP902veYHnFIjlMfgcjEVANXApc6HYjIVFEfgUjmPovpwH0S05QiIiIiIiIikuM8TgcwUTU1NYmGhganwxARySkvv/zyfqBupH0511nc0NDA2rVrnQ5DRCSneDyeHaPtU2exiIjLKRGIiLicEoGIiMvlXB+BiIjbRSIRmpqaCIVCw/YFAgHmzZtHQcFIE9qOTIlARCTHNDU1UV5eTkNDAx7P4ODPRCJBW1sbTU1NNDY2Zvx6ahoSEckxoVCImpqaIUkAwOPxUFNTM2JNYSxKBCIiOSg9CYy3fSxqGhIRsVkikaA/Gqc/EqcvEjOPcIxQNEYkGieegHgiQTgapyccpbff7AtH40TjCSLROJFYnLOWzeKo+TOmPD4lAhFxrXjcFNChZOGcLKAjMUIphXbIKrT7woPH9UfiQ9ZD1mPwNYa+biL9PnmTMKsyoEQgIu4QiycGCtGBAjYcH1gf+BlOLseHbBtyTHL/KNsno9DvpbjAR3GBj0CBl0CBj+JCs14eKLC2+ygu9BLwm30B63izbJ5fVOCjyOfF4/Hg9UCB30tZkZ8S6/gCn5dCnxe/z4Pf6xnWMTxSM1BiEhlHiUBEDko8nqA7FKWjN0x7b5jO3jAdPRE6+yIjFMzxIWfNI55JR+OEo5MroJMFbLIgTi2gq0oKB/db24qShXOBd6CwHlJg+63CPGVbkd+Hz+vsNG2BQIC2trZhHcbJUUOBQGBCr6dEIOIyiUSC7v4oXb0RuvoiBAq89Efj7GrvJRiKDhTevVYB3msV2AdCUdp7wuzv6ac7FKXA6yEUjdPZGyY+xkmo18NAQRpIOyMuD/iZWV6UdrbsG1JgDymcCwYL5qHbfBT5vZPqKM1F8+bNo6mpidbW1mH7ktcRTIQSgUgOisTiBPsiBENR62eEYF+UnnAUr8dDV1+EvcEQLV0h2nvCBEOm0E8+JzZWyZ0iWSCXFJrmiurSQpbVV1BR7CcSS1Dk91JVUsiMkgKqSwsHlpM/Swr9FPg8rimgs6WgoGBC1wmMR4lAxEGhSIyO3jBtB8K09YRpO9BvCu4+q+AORVMKcFPYB0MResOxcV+7yO+lvjJATWkhNaWFNNaWUhEooLK4gBkl5md5oIBwLI7f62FBdQmVxQWUFA42i3gdbgKR7FAiEJkC8XiCWMJ0cO7r7mdfsJ/WA/109ITp6A1bPyOmHb0nTGdvhPaeMH2RkQt0jwfKi/xUlhQMFN6LasuoLC6gothPRaCAivTlgCnEEwkoD/iZUVKgM3HJiBKByDh6w1FaukK0BENWc0v/QLNLctu+7v4xm1sqAn6qrKaTWRUBDq0vp7qkcGBbdWkBtWVF1JYVUVVSSHnAr7NxyRolAnGteDxBW094WKGevhwMRYc9tzzgp74iQH1lgCUza5lVUUTA76PQ72VmRREzywPUlRdRXVrIjOIC/D5dxC/TlxKB5KVQJDZCoW6dyVvb93WHiMSGnsV7PTCzPMCsygCNtaWcsqiGWZUBU+hbBf+sigClRfrXkfyhv2bJKYlEgo7eCC1doSGF+t5giD0p2zp7I8OeW1Loo94q1E9qrB4o4GdZBXx9RYDaskKdvYvrKBHItJNIJGjt7mfb/h6au/oGzuQ3NHfx+u6uYVeDejxQU1pEfWUR86qKOb6halgBP6syQHmRX52nIiNQIhBHRGNxmjtD7GjvYXtbL2/tCbK1tYf2njBNHb30pA2PLC/ys2hmGRefsIAF1SUDTTT1lQFmlhdRoLN4kUlTIhBbJRIJNu3tZmNzkD1dId7Z281bLd1sbe0hHBs8sy8P+Fk6s4wFNSWcsriGxtpSGmpLmVdVTL3a5EVspf8umTL7giHWNXWxblcn65o62d3RZ809M9heP3dGMYfMKuOMQ+tYXGsK/oU1JdRXBNRsI+IQJQKZsFAkxmu7Olnf1Mn2tl52tPWwZV8PLUFzVySf18Ohs8pZNqeCioCfY+ZXcVxDFXMqiyku9DkcvYikUyKQMe0Nhli3q5PXd3exq72XbW29bGzuGhh2WV1ayMKaElYsruHwuZUcPb+S5bMrVeCL5BAlAhmipSvEP7fs5/nNbazesp/mrsGz/DkzAsypLObKUxdxQkMVxyyoorq00OGIReRgKRG4WCKRYOv+HtZub+elbR2s2d7OzvZeAKpKCjhlcQ1XLazmKJ3li+Q1JQKX6QvHeHFbG397u5W/btjL7s4+wDTxHL+wistOWcjJi2pYPrtCc92IuIQSgQvsC4Z46s29/OWNFl7c1k44GqfQ7+W0JbV84T2LOamxmsV1ZRq1I+JSSgR5KJFI8MbuII+vb+apjXvZur8HgMbaUi49eSGnH1LHSY3VBArU1CMiSgR5I5FI8Oaebv78ejOPr9/DjrZe/F4PK5bUcvGJ8zl1SR3LZpfrrF9EhlEiyGHxuLlq98k3Wnh8fTNbW3vweT2sWFzDNWcs5tzD66nSqB4RGYcSQQ7atr+He/65ncfWNdPeE8bjgZMba7jy1EbOO7yemrIip0MUkRyiRJAjEokEf39nP795fhvPbmqlwOfh3MPrOeOQOs44tI6Z5QGnQxSRHGV3IjgP+BngA+4AfpS2/9PAT4Dd1vot1nFi6Q1HefSV3dzzz+1s3neA2rJCvnzWUj518gIV/iIyJexMBD7gVuB9QBOwBngM2Jh23IPAtTbGkZM6e8Pc9rctPPDiToKhKEfMreTmjx/F+4+cTZFfo31EZOrYmQhOBDYDW631lcBFDE8EkmLzvm7+vL6Fu/+5ja6+COcfMZsrVjRw3MIqjfgREVvYmQjmArtS1puAk0Y47iPA6cDbwFfTnuMaB/qj/PCJN7nvxZ14PHDqklq+c8Eyls2ucDo0EclzTncW/wl4AOgHPgfcA7x3hOOuth60trZmLbhsCEfj3Lt6O7c9t4X23jBXndrI1acvYmaF2v9FJDvsTAS7gfkp6/MY7BROaktZvgO4aZTXut16UFdXl5iqAJ32VkuQrz24jo17gpy2tJavn3MoR8+f4XRYIuIydiaCNcBSoBGTAC4GPpl2zGxgj7V8IfCmjfFMG9FYnNv/vpWfPvU2lcUF3H7pcZxzeL3TYYmIS9mZCKKY0UCrMCOI7gI2ADcCazEjiL6ESQBRoB0znDSvbW09wNcfXserOzu54Ih6fvDBIzSnv4g4KueGoRx33HGJtWvXOh3GhMXjCe5ZvZ0f/+Utivw+vv/Bd/GBI2drJJCIZIXH43kZOH6kfU53FrtCKBLj6w+t48+v7+G9h83kRx8+Qp3BIjJtKBHYrLM3zJX3rOWVnR1854LD+Oxpi1QLEJFpRYnARnuDIS678yW27e/h1k8eywVHzHY6JBGRYZQIbLJ9fw+X3vUi7QfC3H3FCaxYUut0SCIiI1IisMHG5iCX3fUSsXic+z97Mkfp2gARmcaUCKbYa7s6ufTOFykr8rPy6hUsmVnmdEgiImNSIphCu9p7ufLuNVSVFPLA1Sczd0ax0yGJiIzL63QA+SIYivCZu9cQicX5zRUnKAmISM5QjWAKRGNxvnjfK2zb38O9nzmRxXVqDhKR3KFEMAV+smoTf39nPz/68BEaHSQiOUdNQwdp9ZY2bv/7Vi45cQEXn7jA6XBERCZMieAgBEMRvvHwOhZWl/Bv71/mdDgiIpOipqGDcMNjG9nT1ccj16ygtEi/ShHJTaoRTNKqDS08+koT175nCccuqHI6HBGRSVMimIT+aIzvP76Rw+rL+T9nLXU6HBGRg6JEMAm/e2EnTR19fOeCZRT49CsUkdymUmyCunoj3PLMO5y6pJbTD6lzOhwRkYOmRDBB//nXTXT1Rfj2BYc5HYqIyJRQIpiA9U2d/O7FHVy+ooHD51Q6HY6IyJRQIpiAHz7xFjWlRXz1fYc4HYqIyJRRIsjQyzs6WL21jc+fsYiKQIHT4YiITBklggz94tnNVJUUcImmkRCRPKNEkIG393bz9Fv7+PSKRl1BLCJ5J5NE8DLwRcC1l8/eu3o7hX4vl56y0OlQRESmXCaJ4BPAHGANsBI4F/DYGdR0EgxF+P0ru/nAkXOoLi10OhwRkSmXSSLYDHwXOAS4H7gL2AHcAFTbF9r08PuXm+gNx7hMtQERyVOZ9hEcCfwX8BPgUeBjQBB4xqa4poVEIsHKNbs4cl4lR82f4XQ4IiK2yKTn82WgE7gTuA7ot7a/CLzbprimhQ3NQd5q6eb7Fx3udCgiIrbJJBF8DNg6yr4PT2Es086jrzRR6PPygaPmOB2KiIhtMmkaugpIbRepAn5gTzjTRzga54+vNXP28pnMKFEnsYjkr0wSwfmYpqGkDuACe8KZPp7fvJ/2njAfPmae06GIiNgqk0TgA4pS1ovT1vPSqg0tlBX5Oe2QWqdDERGxVSZ9BPcBTwO/sdavAO6xLaJpIBZP8NTGvbznsJkU+X1OhyMiYqtMEsGPgfXAWdb694FVtkU0Dazd3k5bT5hzD5/ldCgiIrbL9DqCJ4FvWI+JJIHzgE2Yi9KuG+O4jwAJ4PgJvLZtVm3YS6Hfy5mHznQ6FBER22WSCE7GTC9xAAgDMczFZOPxAbdiOpuXA5dYP9OVA1/GXJcwLTy3aR8rFtdQpgnmRMQFMkkEt2AK8XcwHcVXYQr48ZyIqQlsxSSQlcBFIxz3fUzzUyiD17RdS1eIrft7ePdidRKLiDtk2jS0GXOGH8N0Gp+XwXPmArtS1pusbamOBeYDfx7nta4G1gJrW1tbM4l30lZv3Q/AKYtrbH0fEZHpIpO2j16gEHgNuAnYw9Tcx8AL3Ax8OoNjb7ce1NXVJabgvUe1eksblcUFLJ9dYefbiIhMG5kU6Jdax10L9GDO4D+SwfN2W8cmzbO2JZUD7wKeA7Zj+iIew+EO49Vb2zipsRqv1zUzbYuIy42XCHzAf2Da74OYqae/hmkqGs8aYCnQiKlRXIwp6JO6gFqgwXq8AFyIaQJyxK72Xna197FCzUIi4iLjJYIYsBBTkE9UFFOLWAW8CTwEbABuxBT4084rOzsAOKEx72+zICIyIJM+gq3A85iz+Z6U7Tdn8NwnrEeq60c59swMXs9WG/cEKfR5WTqz3OlQRESyJpNEsMV6eDHt+nlrY3OQpbPKKPRPRV+4iEhuyCQR3GB7FNPEm3u6ec+hdU6HISKSVZkkgmcx0z+ke+8Ux+Kofd0h9h/oZ/kcDRsVEXfJJBF8I2U5gBk6GrUnHOdsbDazZuj6ARFxm0zvWZzqeeAlG2Jx1MY9JhEcpkQgIi6TSSJIHUvpBY4DKu0Jxzkbm4PMqyqmsrjA6VBERLIq0xpBAvBgmoS2AVfaGZQT3mrpZplqAyLiQpkkgkbbo3BYJBZnR1sP5yzXjWhExH0yGTD/RWBGynoV8AV7wnHGzvZeIrEEi+vKnA5FRCTrMkkEnwU6U9Y7rG15Y8u+AwAsnqlEICLuk0ki8GH6B1LXJzP30LS1udVKBHWlDkciIpJ9mfQR/AV4EPiVtf45a1ve2LKvh1kVRZQHNGJIRNwnk0TwLcwdwq6x1p8C7rAtIgdsbj3AEjULiYhLZZIIioFfA7+01n1AEebOZTkvkUiwdd8BPnRs+l00RUTcIZM+gqcxySCpGPhfe8LJvn3d/XT3RzViSERcK5NEEAAOpKwfAErsCSf7kiOG1DQkIm6VSSLoAY5NWT8O6LMnnOzb0W5auBbW5E1uExGZkEz6CL4CPAw0Y4aR1gOfsDOobNrT2YfHA7MqAk6HIiLiiEwSwRrgMOBQa30TELEtoixr7goxs7yIAp/uSiYi7pRJIgCTBJZj+guSzUT32hJRlu3p6mN2ZfH4B4qI5KlMEsG/Y24svxxzI/rzgX+QN4kgxGH1eX0rZhGRMWXSHvJR4CygBbgCOIo8uR9BIpFgT2dINQIRcbVMEkEfEMfci6AC2AfMtzOobOnqi9AXiTG7Uh3FIuJemTQNrcVMQ/1rzE1qDgCr7QwqW5o7QwDMmaEagYi4VyaJIHnvgV9iJpurANbbFlEW7ekyl0OoRiAibpbpqKGk7bZE4ZDmLlMjUB+BiLiZqwfP7+nsw+/1UFde5HQoIiKOcXci6AoxqyKAz+sZ/2ARkTw1XtOQBzgRSM7RvBt4CUjYGVS2mIvJ1D8gIu42ViI4B/gF8A4mAQDMA5ZgOpD/am9o9mvpCvGuuXlxSYSIyKSNlQh+BpzN8A7iRswVxsvsCipb2nrC1Japf0BE3G2sPgI/0DTC9t1Azt/cNxKL0x2KUl1a6HQoIiKOGqtGcBdm5tGVwC5r23zgYuBOm+OyXUdvGIAqJQIRcbmxagQ/BD6F6TA+xXp4rG0/zPD1z8NMW70ZuG6E/Z8HXgdew0xktzzD1z1oHT1mJu3qEiUCEXG38UYNbbQe1dZ6+wRe2wfcCrwP08S0BnjMer2k+zFXLANcCNyMSR62a+9J1ghyvpVLROSgjFUjWIBpFtoHvIgZNrrP2taQwWufiKkJbAXC1vMuSjsmmLJcShaHpSabhtRHICJuN1YieBD4H2A2sBQzbHQ28AdMoT6euQz2LYCpFcwd4bgvAluAm4AvjfJaV2Mmv1vb2tqawVuPL1kjUNOQiLjdWImgFpMMYinbYpgkUDOFMdwKLAa+BfzbKMfcDhwPHF9XVzclb9phJYIZSgQi4nJjJYKXMReUnQTMsR4nWdtezeC1dzP0vgXzGLwwbSQrgQ9m8LpTor03THmRn0K/q2fZEBEZs7P4MuBK4AYGm3SagD+R2fDRNZgmpUZMArgY+GTaMUsxVy4DvD9l2XYdPWENHRURYexEEAZusx6TEQWuBVZhRhDdBWwAbsS09z9m7T8biAAdwOWTfK8Ja++NKBGIiDDx+xEkXY8p0MfzhPVIf27Slyf5/getoydMbZkSgYjIZBvIr5rSKBzQrqYhERFg7BpBcJTtHiDnb+nV0RumSiOGRETGTASdwAnA3hH27RphW84IRWL0hmO6mExEhLGbhu4FFo6y734bYsmazl4zz5BqBCIiY9cIRru4C8zFXzlr4KpizTMkIjLhzuLv2RJFlg1MQa0agYjIhBPBhbZEkWWDNQIlAhGRiSYCjy1RZFlnr+YZEhFJmmgiONaWKLKsq890FlcUT/Z6OhGR/JFJIliEmV9oP2Yo6R+tbTkrGIoSKPBS5Pc5HYqIiOMySQT3Aw8B9ZgZSB8GHrAzKLsF+yJUBDRiSEQEMksEJcBvMZPIRYHfAQE7g7JbV1+EymIlAhERyGzSuScxN55fibmV5CcwE8lN5j7G00IwFKFCiUBEBMgsEXzc+vm5tO0XYxJDzvUXBPuimnlURMSSSSJotD2KLAuGIiyuK3U6DBGRaSGTRFAAXAOcbq0/B/wKczOZnNTVp6YhEZGkTBLBbZhk8Atr/VJrW07ekyCRSGjUkIhIirESgR8zSugE4KiU7c8A6+wMyk494RjxBBo1JCJiGWv46EvWzxiwOGX7ImtbTtJVxSIiQ41VGibnFfoG8Cyw1VpvAK6wMyg7BZOJQE1DIiLA2ImgDviatfwrIDkfQww4BpMcck4yEahpSETEGCsR+IAyhs846gfKbYvIZoNNQ0oEIiIwdiLYA9yYrUCyJRiKAmoaEhFJGquzOC/uPZBOTUMiIkONlQjOyloUWZRsGioLaNSQiAiMnQhybjK5TARDEcqL/Pi8eVnhERGZsIneoSznBfui6igWEUnhukSgeYZERIZyXSIIhiJUqH9ARGSA+xKB7k4mIjKE6xJBd0h9BCIiqVyXCIKhCGVFahoSEUlyXSLoj8YJFPjGP1BExCXsTgTnAZuAzcB1I+z/GrARWA88DSy0M5h4PEE4GidQ4Lr8JyIyKjtLRB9wK3A+sBy4xPqZ6lXgeOBI4BHgJhvjIRyLA1DkV41ARCTJzkRwIqYmsBUIAyuBi9KOeRbotZZfAObZGA/9kWQiUI1ARCTJzhJxLrArZb3J2jaaK4EnR9l3NbAWWNva2jrpgEJRc2M19RGIiAyaLsNn/hXTRHTGKPtvtx7U1dUlJvsmqhGIiAxnZyLYDcxPWZ9nbUt3NvBdTBLotzGegRpBkTqLRUQG2FkirgGWAo1AIXAx8FjaMcdgboN5IbDPxliAwRpBQJ3FIiID7EwEUeBaYBXwJvAQsAFz17MLrWN+grkd5sPAawxPFFOqXzUCEZFh7O4jeMJ6pLo+Zflsm99/iFCyRqDOYhGRAa46NR6oEaizWERkgKtKxFBEF5SJiKRzVSLoH7iOwFUfW0RkTK4qEfujqhGIiKRzVSIIRVQjEBFJ56oSUTUCEZHhXJUIkjUCjRoSERnkqhKxPxqn0OfF6/U4HYqIyLThrkQQias2ICKSxlWlYiga0/QSIiJpXFUqmhqBOopFRFK5KhGoRiAiMpyrSsX+SFxTUIuIpHFXIlCNQERkGFeViho1JCIynKtKxf5oTPciEBFJ46pEEFKNQERkGFeViv3RmIaPioikcVkiiGvmURGRNK4qFUMR1QhERNK5KhGoRiAiMpxrSsVEIqEagYjICFyTCKLxBPGE7kUgIpLONaVi8u5kuo5ARGQo1ySCgbuTqY9ARGQI15SKAzUC9RGIiAzhmkSgGoGIyMhcUyr2R0yNQJ3FIiJDuaZU7I8mawRqGhIRSeWaRBBSjUBEZESuKRUHagTqLBYRGcI1iSBZI9AUEyIiQ7mmVFSNQERkZHYngvOATcBm4LoR9p8OvAJEgY/aGcjglcWuyX0iIhmxs1T0AbcC5wPLgUusn6l2Ap8G7rcxDgD6I6oRiIiMxG/ja5+IqQlstdZXAhcBG1OO2W79jNsYBzBYI9AFZSIiQ9lZKs4FdqWsN1nbHLGguoTz31WvKSZERNLYWSOYSldbD1pbWyf1AuccXs85h9dPZUwiInnBzkSwG5ifsj7P2jYZt1sP6urqEgcZl4iIpLCzaWgNsBRoBAqBi4HHbHw/ERGZBDsTQRS4FlgFvAk8BGwAbgQutI45AdN38DHgV9Z+ERHJIrv7CJ6wHqmuT1leg2kyEhERh2gspYiIyykRiIi4nBKBiIjLKRGIiLicx+kAJqEV2DGJ59UC+6c4lulOn9kd9Jnd42A+90KgbgpjyUlrnQ7AAfrM7qDP7B62fG41DYmIuJwSgYiIy7ltKs6XnQ7AAfrM7qDP7B5u/dwiIiIiIiIiIiKTcR6wCXPbzOscjmUqzQeexdz6cwPwZWt7NfAU8I71s8ra7gF+jvk9rAeOzWawU8wHvAo8bq03Ai9iPtuDmGnPAYqs9c3W/obshjmlZgCPAG9hZvM9hfz/rr+K+fOJZkEAAARLSURBVNt+A3gACJB/3/VdwD7MZ0yazPd6uXX8O9aypPABW4BFmD+YdcByRyOaOrMZ/EMoB97GfLabGEx41wE/tpYvAJ7E/DGdjPlnyVVfA+5nMBE8hLnfBcAvgWus5S9Y61j7H8xWgDa4B7jKWi7EJIZ8/q7nAtuAYmv9IeDT5N93fTrm/zg1EUz0e63G3Bu+GpM0tjKYPARz1rQqZf3b1iMf/RF4H6b2M9vaNttaB3O/h0tSjk89LpfMA54G3otJBB7MlZbJKdVTv/NV1jrW/v3k5tX0lZhCMT32fP6uk/c8r8Z8d48D55Kf33UDQxPBRL/XS6x9jHLcuPL9OoLkH1NSk7Ut3zQAx2DOEGYBe6ztLdY65M/v4r+BbwJxa70G6MTcCAmGfq7UzxwFuqzjc00jZmqV32CaxO4ASsnv73o38J/ATsxn7MIMm8z37xom/r0e9Ped74nADcqAR4GvAMG0fQnrkS/+BdOe6rZx1H5M88FtmITfw/D+rnz7rquAizBJcA4m8Z3naETOyMr3mu+JYDemUzVpnrUtXxRgksB9wO+tbXsZWq3cZy3nw+/i3ZjbnG4HVmKah36GaS9PNhekfq7Uz+zHNLG0ZSvYKdRkPZJtwo9gEkM+f9dnY5rDWoEI5u/73eT/dw0T/14P+vvO90SwBliKOasoxHQiPeZoRFPHA9yJGUFyc8r2xxgcNXA5pu8guf0yBjuauhisfuaKb2P+yBsw3+UzwKcwo6c+ah2T/pmTv4uPWsfn4llzC6bqf6i1fhZmtFg+f9c7MbGXYD5H8jPn+3cNE/9eVwHnYGpRVdZyat+oYHra38aMHvquw7FMpVMxf+jrgdesxwWYdtGnMcPI/hfT2Qbmj+dWzO/hdeD4LMc71c5kcNTQIuAlzLC6hzFDCcEMN3zY2v6SdVyuOhoz8+R64A+Yf/h8/65vwAyXfQP4LeZ7zbfv+gFMYR7B1PquZHLf62cwn30zcEU2AhcRERERERERERERERERERERERGRTKUOexWZFvL9gjIRERmHEoHIyP4Vc2HSa5jZHH3AAeCnmDnynwbqrGOPBl7AXOz1PwxOAbwEc0HQOuAVYLG1vYzBewvcR+7Mkiki4hrLgD9h5nIC+AXm0v4EZkoLgOuBW6zl9cAZ1vKNmBlSwcwN9CFrOYCZLuFMzNQA8zAnYqsxV4mLiMg0ci3QzODUHZuA7wExBic8W2Ttq8TMi5O0GHP2X46ZMiDdmZi7TiXdhql9iDjGP/4hIq7jwdwRLP0mRv83bX2yk5r1pyynJhcRR6iPQGS4pzEzWM601quBhZj/l+TMl58E/oFp5ukATrO2Xwr8DejG1Ag+aG0vwjQNiYhIjvgEpulnPeZGOCdjOotvxsyG+QwjdxYnZwYFMwX6MymvsYjhw0dvwdyLV0REcsABpwMQsYOahkREREREREREREREREREREREREREXOX/AzKApsH+4YPdAAAAAElFTkSuQmCC)"
      ],
      "metadata": {
        "id": "AjwUN_8uT_G8"
      }
    },
    {
      "cell_type": "code",
      "source": [
        "plt.plot(epochs, history.history[\"loss\"])\n",
        "plt.title(\"Accuracy vs epoch\")\n",
        "plt.xlabel(\"epoch\")\n",
        "plt.ylabel(\"loss\");\n",
        "plt.legend()"
      ],
      "metadata": {
        "colab": {
          "base_uri": "https://localhost:8080/",
          "height": 330
        },
        "id": "9wjx8JTI3TnH",
        "outputId": "effd6717-3f36-44b0-d0f2-d37c3dc9ec9b"
      },
      "execution_count": null,
      "outputs": [
        {
          "output_type": "stream",
          "name": "stderr",
          "text": [
            "WARNING:matplotlib.legend:No handles with labels found to put in legend.\n"
          ]
        },
        {
          "output_type": "execute_result",
          "data": {
            "text/plain": [
              "<matplotlib.legend.Legend at 0x7fc93d0f3090>"
            ]
          },
          "metadata": {},
          "execution_count": 16
        },
        {
          "output_type": "display_data",
          "data": {
            "image/png": "[encoded data removed]",
            "text/plain": [
              "<Figure size 432x288 with 1 Axes>"
            ]
          },
          "metadata": {
            "needs_background": "light"
          }
        }
      ]
    },
    {
      "cell_type": "markdown",
      "source": [
        "##output of loss for 200 epochs\n",
        "\n",
        "![image.png](data:image/png;base64,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)"
      ],
      "metadata": {
        "id": "VIfmkcoVUCz7"
      }
    },
    {
      "cell_type": "markdown",
      "source": [
        "## Making predictions\n",
        "\n",
        "Now that we have a model, we would like to be able to make predictions. We can use the `tfrs.layers.factorized_top_k.BruteForce` layer to do this."
      ],
      "metadata": {
        "id": "w4cy6IBE3irK"
      }
    },
    {
      "cell_type": "code",
      "source": [
        "\n",
        "# Use brute-force search to set up retrieval using the trained representations.\n",
        "index = tfrs.layers.factorized_top_k.BruteForce(model.user_model)\n",
        "index.index_from_dataset(\n",
        "    movies.batch(100).map(lambda title: (title, model.movie_model(title))))"
      ],
      "metadata": {
        "id": "XrmHz8GQR5Bg",
        "colab": {
          "base_uri": "https://localhost:8080/"
        },
        "outputId": "13c14411-0dc2-43d9-8972-5f39297f424c"
      },
      "execution_count": 14,
      "outputs": [
        {
          "output_type": "execute_result",
          "data": {
            "text/plain": [
              "<tensorflow_recommenders.layers.factorized_top_k.BruteForce at 0x7fef30dc1e10>"
            ]
          },
          "metadata": {},
          "execution_count": 14
        }
      ]
    },
    {
      "cell_type": "code",
      "source": [
        "userID = 1\n",
        "# converting to string \n",
        "str_val = str(userID) \n",
        "\n",
        "# converting string to bytes \n",
        "byte_val = str_val.encode() \n",
        "\n",
        "# print(index(np.array([\"10\"])))  \n",
        "UsersMovieTitles=[]\n",
        "\n",
        "for x in ratingsFullDetail.take(int(len(ratingsFullDetail)/2)).as_numpy_iterator():\n",
        "  if x[\"user_id\"] == byte_val:\n",
        "      UsersMovieTitles.append(x[\"movie_title\"].decode())\n",
        "\n",
        "pprint.pprint(UsersMovieTitles)\n",
        "\n"
      ],
      "metadata": {
        "id": "BuvzIbOLOEZJ",
        "colab": {
          "base_uri": "https://localhost:8080/"
        },
        "outputId": "2b673814-6731-4078-b3f2-404582468f1c"
      },
      "execution_count": 15,
      "outputs": [
        {
          "output_type": "stream",
          "name": "stdout",
          "text": [
            "['2001: A Space Odyssey (1968)',\n",
            " 'Belle de jour (1967)',\n",
            " 'Jungle2Jungle (1997)',\n",
            " \"What's Eating Gilbert Grape (1993)\",\n",
            " 'Sting, The (1973)',\n",
            " 'Sneakers (1992)',\n",
            " 'Unbearable Lightness of Being, The (1988)',\n",
            " 'Good, The Bad and The Ugly, The (1966)',\n",
            " 'Field of Dreams (1989)',\n",
            " 'Event Horizon (1997)',\n",
            " 'Starship Troopers (1997)',\n",
            " 'So I Married an Axe Murderer (1993)',\n",
            " 'Silence of the Lambs, The (1991)',\n",
            " 'Twelve Monkeys (1995)',\n",
            " 'Gattaca (1997)',\n",
            " 'Shall We Dance? (1996)',\n",
            " 'Babe (1995)',\n",
            " 'French Twist (Gazon maudit) (1995)',\n",
            " 'Free Willy (1993)',\n",
            " \"My Best Friend's Wedding (1997)\",\n",
            " 'Wizard of Oz, The (1939)',\n",
            " 'Kids in the Hall: Brain Candy (1996)',\n",
            " 'Pulp Fiction (1994)',\n",
            " 'Operation Dumbo Drop (1995)',\n",
            " \"Weekend at Bernie's (1989)\",\n",
            " 'Star Trek III: The Search for Spock (1984)',\n",
            " 'Return of the Jedi (1983)',\n",
            " 'Reservoir Dogs (1992)',\n",
            " 'Willy Wonka and the Chocolate Factory (1971)',\n",
            " 'Delicatessen (1991)',\n",
            " 'Angels and Insects (1995)',\n",
            " 'Wrong Trousers, The (1993)',\n",
            " 'Shanghai Triad (Yao a yao yao dao waipo qiao) (1995)',\n",
            " 'Muppet Treasure Island (1996)',\n",
            " 'Nikita (La Femme Nikita) (1990)',\n",
            " 'Dances with Wolves (1990)',\n",
            " 'Get Shorty (1995)',\n",
            " 'Henry V (1989)',\n",
            " 'Chasing Amy (1997)',\n",
            " 'Natural Born Killers (1994)',\n",
            " 'Much Ado About Nothing (1993)',\n",
            " 'Hunt for Red October, The (1990)',\n",
            " 'Supercop (1992)',\n",
            " 'Bad Boys (1995)',\n",
            " 'Glengarry Glen Ross (1992)',\n",
            " 'Apocalypse Now (1979)',\n",
            " 'Bound (1996)',\n",
            " 'Sgt. Bilko (1996)',\n",
            " 'Faster Pussycat! Kill! Kill! (1965)',\n",
            " 'M*A*S*H (1970)',\n",
            " 'Alien (1979)',\n",
            " 'From Dusk Till Dawn (1996)',\n",
            " 'Desperado (1995)',\n",
            " 'Fish Called Wanda, A (1988)',\n",
            " 'Dead Man Walking (1995)',\n",
            " 'Indiana Jones and the Last Crusade (1989)',\n",
            " 'Copycat (1995)',\n",
            " 'Breaking the Waves (1996)',\n",
            " 'Pink Floyd - The Wall (1982)',\n",
            " 'Hudsucker Proxy, The (1994)',\n",
            " 'Right Stuff, The (1983)',\n",
            " 'Princess Bride, The (1987)',\n",
            " 'Hot Shots! Part Deux (1993)',\n",
            " 'Lawnmower Man, The (1992)',\n",
            " 'On Golden Pond (1981)',\n",
            " 'unknown',\n",
            " 'Back to the Future (1985)',\n",
            " 'Forrest Gump (1994)',\n",
            " 'Jude (1996)',\n",
            " 'Swingers (1996)',\n",
            " 'GoldenEye (1995)',\n",
            " 'Men in Black (1997)',\n",
            " 'Batman & Robin (1997)',\n",
            " 'Love Bug, The (1969)',\n",
            " 'Ace Ventura: Pet Detective (1994)',\n",
            " 'This Is Spinal Tap (1984)',\n",
            " 'Heavy Metal (1981)',\n",
            " 'Grand Day Out, A (1992)',\n",
            " 'Akira (1988)',\n",
            " 'Mystery Science Theater 3000: The Movie (1996)',\n",
            " 'Clockwork Orange, A (1971)',\n",
            " 'Terminator 2: Judgment Day (1991)',\n",
            " 'Fugitive, The (1993)',\n",
            " 'Legends of the Fall (1994)',\n",
            " 'Horseman on the Roof, The (Hussard sur le toit, Le) (1995)',\n",
            " 'Star Trek IV: The Voyage Home (1986)',\n",
            " 'Striptease (1996)',\n",
            " 'Gone with the Wind (1939)',\n",
            " 'Maverick (1994)',\n",
            " 'Aristocats, The (1970)',\n",
            " 'Haunted World of Edward D. Wood Jr., The (1995)',\n",
            " 'Chasing Amy (1997)',\n",
            " 'Cinema Paradiso (1988)',\n",
            " 'Nightmare Before Christmas, The (1993)',\n",
            " 'Platoon (1986)',\n",
            " 'Net, The (1995)',\n",
            " \"Smilla's Sense of Snow (1997)\",\n",
            " 'Free Willy 2: The Adventure Home (1995)',\n",
            " 'Groundhog Day (1993)',\n",
            " \"Breakfast at Tiffany's (1961)\",\n",
            " 'Crumb (1994)',\n",
            " '101 Dalmatians (1996)',\n",
            " 'Austin Powers: International Man of Mystery (1997)',\n",
            " 'Under Siege (1992)',\n",
            " 'Unhook the Stars (1996)',\n",
            " 'Mars Attacks! (1996)',\n",
            " 'Basic Instinct (1992)',\n",
            " 'Crimson Tide (1995)',\n",
            " 'Dolores Claiborne (1994)',\n",
            " 'Star Wars (1977)',\n",
            " 'Three Colors: Blue (1993)',\n",
            " 'Army of Darkness (1993)',\n",
            " \"Monty Python's Life of Brian (1979)\",\n",
            " 'Toy Story (1995)',\n",
            " 'Usual Suspects, The (1995)',\n",
            " 'Young Frankenstein (1974)',\n",
            " 'In the Company of Men (1997)',\n",
            " 'Turbo: A Power Rangers Movie (1997)',\n",
            " 'Searching for Bobby Fischer (1993)',\n",
            " 'Bridge on the River Kwai, The (1957)',\n",
            " 'Maya Lin: A Strong Clear Vision (1994)',\n",
            " 'Apollo 13 (1995)',\n",
            " 'Jaws (1975)',\n",
            " 'Raiders of the Lost Ark (1981)',\n",
            " 'Last of the Mohicans, The (1992)',\n",
            " 'Aladdin (1992)',\n",
            " 'Billy Madison (1995)',\n",
            " 'Fifth Element, The (1997)',\n",
            " 'Braveheart (1995)',\n",
            " 'Mighty Aphrodite (1995)',\n",
            " 'When the Cats Away (Chacun cherche son chat) (1996)',\n",
            " 'Die Hard (1988)',\n",
            " 'Independence Day (ID4) (1996)',\n",
            " 'Raising Arizona (1987)',\n",
            " 'Crow, The (1994)',\n",
            " 'Cyrano de Bergerac (1990)',\n",
            " 'Citizen Kane (1941)',\n",
            " 'Mask, The (1994)',\n",
            " 'Young Guns (1988)',\n",
            " \"Devil's Own, The (1997)\",\n",
            " 'Unforgiven (1992)',\n",
            " 'D3: The Mighty Ducks (1996)',\n",
            " 'Madness of King George, The (1994)',\n",
            " \"Antonia's Line (1995)\",\n",
            " 'Hoop Dreams (1994)',\n",
            " '20,000 Leagues Under the Sea (1954)',\n",
            " 'Frighteners, The (1996)',\n",
            " 'Home Alone (1990)']\n"
          ]
        }
      ]
    },
    {
      "cell_type": "code",
      "source": [
        "# Get some recommendations.\n",
        "_, titles = index(np.array([str(userID)]))\n",
        "print(f\"recommendations for user {userID} are : {titles[0]}\")"
      ],
      "metadata": {
        "colab": {
          "base_uri": "https://localhost:8080/"
        },
        "id": "kKEJ_Ka4bCNY",
        "outputId": "9f104d6c-eaa6-4470-dc0a-883015c0968a"
      },
      "execution_count": null,
      "outputs": [
        {
          "output_type": "stream",
          "name": "stdout",
          "text": [
            "recommendations for user 1 are : [b'Brother Minister: The Assassination of Malcolm X (1994)'\n",
            " b'Turbo: A Power Rangers Movie (1997)' b'Doom Generation, The (1995)'\n",
            " b'Theodore Rex (1995)' b'Nadja (1994)' b'All Dogs Go to Heaven 2 (1996)'\n",
            " b'Maya Lin: A Strong Clear Vision (1994)' b'White Balloon, The (1995)'\n",
            " b'Faster Pussycat! Kill! Kill! (1965)' b'Unhook the Stars (1996)']\n"
          ]
        }
      ]
    }
  ]
}